{
  "cells": [
    {
      "cell_type": "markdown",
      "id": "407a61eb-df43-42b4-acb0-bac8351aecab",
      "metadata": {
        "id": "407a61eb-df43-42b4-acb0-bac8351aecab"
      },
      "source": [
        "# Entregable 1"
      ]
    },
    {
      "cell_type": "markdown",
      "source": [
        "## Sección 1. Entendimiento del negocio y enfoque analítico."
      ],
      "metadata": {
        "id": "EKtX_sArPmZh"
      },
      "id": "EKtX_sArPmZh"
    },
    {
      "cell_type": "markdown",
      "id": "2b660192-3591-4d64-8ef8-cd6ac712d4b1",
      "metadata": {
        "id": "2b660192-3591-4d64-8ef8-cd6ac712d4b1"
      },
      "source": [
        "**Oportunidad/problema negocio:** Con el modelo se solucionará el problema de lo costoso que es hacer las clasificaciones de las opiniones al automatizarse, al mismo tiempo, se podrá obtener información sobre las necesidades de los habitantes y en que ODS se deben focalizar esfuerzos para satisfacer sus necesidades.\n",
        "\n",
        "**Objetivos y criterios de éxito desde el punto de vista\n",
        "del negocio:** Se quiere disminuir la pobreza, mejorar la educación, igualdad de género (ODS 3,4 Y 5) y dar calidad de vida a las personas en general. Los criterios de éxito establecerán que se cumplieron los objetivos si se identificaron correctamente los ODS a priorizar y si se le dió un beneficio proporcional a las poblaciones.\n",
        "\n",
        "**Organización y rol dentro de ella que se beneficia con\n",
        "la oportunidad definida:**\n",
        "La UNFPA se beneficiará del software resultante del proyecto, principalmente el área de la empresa que juega el rol financiar y ejecutar proyectos para cumplir los ODF\n",
        "\n",
        "**Impacto que puede tener en Colombia este\n",
        "proyecto:** Este proyecto puede beneficiar la calidad de vida de muchas personas de bajos recursos en colombia, mejorar su educación y promover la igualdad de género.\n",
        "\n",
        "**Enfoque analítico. Descripción de la categoría de\n",
        "análisis (descriptivo, predictivo, etc.) , tipo y tarea de\n",
        "aprendizaje e incluya las técnicas y algoritmos que\n",
        "propone utilizar:** El modelo estará en la categoría de análisis descriptivo, se planean utilizar los algoritmos de Naive Bayes, KNN y regresión logística\n"
      ]
    },
    {
      "cell_type": "markdown",
      "id": "2d4c3cb0-61ca-4ed0-ab43-4d3c475a8109",
      "metadata": {
        "id": "2d4c3cb0-61ca-4ed0-ab43-4d3c475a8109"
      },
      "source": [
        "## Sección 2. Entendimiento y preparación de los datos."
      ]
    },
    {
      "cell_type": "markdown",
      "source": [
        "### Importaciones"
      ],
      "metadata": {
        "id": "DD4ijPmTQs84"
      },
      "id": "DD4ijPmTQs84"
    },
    {
      "cell_type": "code",
      "execution_count": 1,
      "id": "76f2cae7-91e1-4dfe-9a56-df77cf6f9699",
      "metadata": {
        "colab": {
          "base_uri": "https://localhost:8080/"
        },
        "id": "76f2cae7-91e1-4dfe-9a56-df77cf6f9699",
        "outputId": "542c81c6-7029-44d5-98ce-288416f4d5a3"
      },
      "outputs": [
        {
          "output_type": "stream",
          "name": "stdout",
          "text": [
            "Collecting es-core-news-sm==3.7.0\n",
            "  Downloading https://github.com/explosion/spacy-models/releases/download/es_core_news_sm-3.7.0/es_core_news_sm-3.7.0-py3-none-any.whl (12.9 MB)\n",
            "\u001b[2K     \u001b[90m━━━━━━━━━━━━━━━━━━━━━━━━━━━━━━━━━━━━━━━━\u001b[0m \u001b[32m12.9/12.9 MB\u001b[0m \u001b[31m64.3 MB/s\u001b[0m eta \u001b[36m0:00:00\u001b[0m\n",
            "\u001b[?25hRequirement already satisfied: spacy<3.8.0,>=3.7.0 in /usr/local/lib/python3.10/dist-packages (from es-core-news-sm==3.7.0) (3.7.5)\n",
            "Requirement already satisfied: spacy-legacy<3.1.0,>=3.0.11 in /usr/local/lib/python3.10/dist-packages (from spacy<3.8.0,>=3.7.0->es-core-news-sm==3.7.0) (3.0.12)\n",
            "Requirement already satisfied: spacy-loggers<2.0.0,>=1.0.0 in /usr/local/lib/python3.10/dist-packages (from spacy<3.8.0,>=3.7.0->es-core-news-sm==3.7.0) (1.0.5)\n",
            "Requirement already satisfied: murmurhash<1.1.0,>=0.28.0 in /usr/local/lib/python3.10/dist-packages (from spacy<3.8.0,>=3.7.0->es-core-news-sm==3.7.0) (1.0.10)\n",
            "Requirement already satisfied: cymem<2.1.0,>=2.0.2 in /usr/local/lib/python3.10/dist-packages (from spacy<3.8.0,>=3.7.0->es-core-news-sm==3.7.0) (2.0.8)\n",
            "Requirement already satisfied: preshed<3.1.0,>=3.0.2 in /usr/local/lib/python3.10/dist-packages (from spacy<3.8.0,>=3.7.0->es-core-news-sm==3.7.0) (3.0.9)\n",
            "Requirement already satisfied: thinc<8.3.0,>=8.2.2 in /usr/local/lib/python3.10/dist-packages (from spacy<3.8.0,>=3.7.0->es-core-news-sm==3.7.0) (8.2.5)\n",
            "Requirement already satisfied: wasabi<1.2.0,>=0.9.1 in /usr/local/lib/python3.10/dist-packages (from spacy<3.8.0,>=3.7.0->es-core-news-sm==3.7.0) (1.1.3)\n",
            "Requirement already satisfied: srsly<3.0.0,>=2.4.3 in /usr/local/lib/python3.10/dist-packages (from spacy<3.8.0,>=3.7.0->es-core-news-sm==3.7.0) (2.4.8)\n",
            "Requirement already satisfied: catalogue<2.1.0,>=2.0.6 in /usr/local/lib/python3.10/dist-packages (from spacy<3.8.0,>=3.7.0->es-core-news-sm==3.7.0) (2.0.10)\n",
            "Requirement already satisfied: weasel<0.5.0,>=0.1.0 in /usr/local/lib/python3.10/dist-packages (from spacy<3.8.0,>=3.7.0->es-core-news-sm==3.7.0) (0.4.1)\n",
            "Requirement already satisfied: typer<1.0.0,>=0.3.0 in /usr/local/lib/python3.10/dist-packages (from spacy<3.8.0,>=3.7.0->es-core-news-sm==3.7.0) (0.12.5)\n",
            "Requirement already satisfied: tqdm<5.0.0,>=4.38.0 in /usr/local/lib/python3.10/dist-packages (from spacy<3.8.0,>=3.7.0->es-core-news-sm==3.7.0) (4.66.5)\n",
            "Requirement already satisfied: requests<3.0.0,>=2.13.0 in /usr/local/lib/python3.10/dist-packages (from spacy<3.8.0,>=3.7.0->es-core-news-sm==3.7.0) (2.32.3)\n",
            "Requirement already satisfied: pydantic!=1.8,!=1.8.1,<3.0.0,>=1.7.4 in /usr/local/lib/python3.10/dist-packages (from spacy<3.8.0,>=3.7.0->es-core-news-sm==3.7.0) (2.9.2)\n",
            "Requirement already satisfied: jinja2 in /usr/local/lib/python3.10/dist-packages (from spacy<3.8.0,>=3.7.0->es-core-news-sm==3.7.0) (3.1.4)\n",
            "Requirement already satisfied: setuptools in /usr/local/lib/python3.10/dist-packages (from spacy<3.8.0,>=3.7.0->es-core-news-sm==3.7.0) (71.0.4)\n",
            "Requirement already satisfied: packaging>=20.0 in /usr/local/lib/python3.10/dist-packages (from spacy<3.8.0,>=3.7.0->es-core-news-sm==3.7.0) (24.1)\n",
            "Requirement already satisfied: langcodes<4.0.0,>=3.2.0 in /usr/local/lib/python3.10/dist-packages (from spacy<3.8.0,>=3.7.0->es-core-news-sm==3.7.0) (3.4.1)\n",
            "Requirement already satisfied: numpy>=1.19.0 in /usr/local/lib/python3.10/dist-packages (from spacy<3.8.0,>=3.7.0->es-core-news-sm==3.7.0) (1.26.4)\n",
            "Requirement already satisfied: language-data>=1.2 in /usr/local/lib/python3.10/dist-packages (from langcodes<4.0.0,>=3.2.0->spacy<3.8.0,>=3.7.0->es-core-news-sm==3.7.0) (1.2.0)\n",
            "Requirement already satisfied: annotated-types>=0.6.0 in /usr/local/lib/python3.10/dist-packages (from pydantic!=1.8,!=1.8.1,<3.0.0,>=1.7.4->spacy<3.8.0,>=3.7.0->es-core-news-sm==3.7.0) (0.7.0)\n",
            "Requirement already satisfied: pydantic-core==2.23.4 in /usr/local/lib/python3.10/dist-packages (from pydantic!=1.8,!=1.8.1,<3.0.0,>=1.7.4->spacy<3.8.0,>=3.7.0->es-core-news-sm==3.7.0) (2.23.4)\n",
            "Requirement already satisfied: typing-extensions>=4.6.1 in /usr/local/lib/python3.10/dist-packages (from pydantic!=1.8,!=1.8.1,<3.0.0,>=1.7.4->spacy<3.8.0,>=3.7.0->es-core-news-sm==3.7.0) (4.12.2)\n",
            "Requirement already satisfied: charset-normalizer<4,>=2 in /usr/local/lib/python3.10/dist-packages (from requests<3.0.0,>=2.13.0->spacy<3.8.0,>=3.7.0->es-core-news-sm==3.7.0) (3.3.2)\n",
            "Requirement already satisfied: idna<4,>=2.5 in /usr/local/lib/python3.10/dist-packages (from requests<3.0.0,>=2.13.0->spacy<3.8.0,>=3.7.0->es-core-news-sm==3.7.0) (3.10)\n",
            "Requirement already satisfied: urllib3<3,>=1.21.1 in /usr/local/lib/python3.10/dist-packages (from requests<3.0.0,>=2.13.0->spacy<3.8.0,>=3.7.0->es-core-news-sm==3.7.0) (2.2.3)\n",
            "Requirement already satisfied: certifi>=2017.4.17 in /usr/local/lib/python3.10/dist-packages (from requests<3.0.0,>=2.13.0->spacy<3.8.0,>=3.7.0->es-core-news-sm==3.7.0) (2024.8.30)\n",
            "Requirement already satisfied: blis<0.8.0,>=0.7.8 in /usr/local/lib/python3.10/dist-packages (from thinc<8.3.0,>=8.2.2->spacy<3.8.0,>=3.7.0->es-core-news-sm==3.7.0) (0.7.11)\n",
            "Requirement already satisfied: confection<1.0.0,>=0.0.1 in /usr/local/lib/python3.10/dist-packages (from thinc<8.3.0,>=8.2.2->spacy<3.8.0,>=3.7.0->es-core-news-sm==3.7.0) (0.1.5)\n",
            "Requirement already satisfied: click>=8.0.0 in /usr/local/lib/python3.10/dist-packages (from typer<1.0.0,>=0.3.0->spacy<3.8.0,>=3.7.0->es-core-news-sm==3.7.0) (8.1.7)\n",
            "Requirement already satisfied: shellingham>=1.3.0 in /usr/local/lib/python3.10/dist-packages (from typer<1.0.0,>=0.3.0->spacy<3.8.0,>=3.7.0->es-core-news-sm==3.7.0) (1.5.4)\n",
            "Requirement already satisfied: rich>=10.11.0 in /usr/local/lib/python3.10/dist-packages (from typer<1.0.0,>=0.3.0->spacy<3.8.0,>=3.7.0->es-core-news-sm==3.7.0) (13.9.2)\n",
            "Requirement already satisfied: cloudpathlib<1.0.0,>=0.7.0 in /usr/local/lib/python3.10/dist-packages (from weasel<0.5.0,>=0.1.0->spacy<3.8.0,>=3.7.0->es-core-news-sm==3.7.0) (0.19.0)\n",
            "Requirement already satisfied: smart-open<8.0.0,>=5.2.1 in /usr/local/lib/python3.10/dist-packages (from weasel<0.5.0,>=0.1.0->spacy<3.8.0,>=3.7.0->es-core-news-sm==3.7.0) (7.0.5)\n",
            "Requirement already satisfied: MarkupSafe>=2.0 in /usr/local/lib/python3.10/dist-packages (from jinja2->spacy<3.8.0,>=3.7.0->es-core-news-sm==3.7.0) (2.1.5)\n",
            "Requirement already satisfied: marisa-trie>=0.7.7 in /usr/local/lib/python3.10/dist-packages (from language-data>=1.2->langcodes<4.0.0,>=3.2.0->spacy<3.8.0,>=3.7.0->es-core-news-sm==3.7.0) (1.2.0)\n",
            "Requirement already satisfied: markdown-it-py>=2.2.0 in /usr/local/lib/python3.10/dist-packages (from rich>=10.11.0->typer<1.0.0,>=0.3.0->spacy<3.8.0,>=3.7.0->es-core-news-sm==3.7.0) (3.0.0)\n",
            "Requirement already satisfied: pygments<3.0.0,>=2.13.0 in /usr/local/lib/python3.10/dist-packages (from rich>=10.11.0->typer<1.0.0,>=0.3.0->spacy<3.8.0,>=3.7.0->es-core-news-sm==3.7.0) (2.18.0)\n",
            "Requirement already satisfied: wrapt in /usr/local/lib/python3.10/dist-packages (from smart-open<8.0.0,>=5.2.1->weasel<0.5.0,>=0.1.0->spacy<3.8.0,>=3.7.0->es-core-news-sm==3.7.0) (1.16.0)\n",
            "Requirement already satisfied: mdurl~=0.1 in /usr/local/lib/python3.10/dist-packages (from markdown-it-py>=2.2.0->rich>=10.11.0->typer<1.0.0,>=0.3.0->spacy<3.8.0,>=3.7.0->es-core-news-sm==3.7.0) (0.1.2)\n",
            "Installing collected packages: es-core-news-sm\n",
            "Successfully installed es-core-news-sm-3.7.0\n",
            "\u001b[38;5;2m✔ Download and installation successful\u001b[0m\n",
            "You can now load the package via spacy.load('es_core_news_sm')\n",
            "\u001b[38;5;3m⚠ Restart to reload dependencies\u001b[0m\n",
            "If you are in a Jupyter or Colab notebook, you may need to restart Python in\n",
            "order to load all the package's dependencies. You can do this by selecting the\n",
            "'Restart kernel' or 'Restart runtime' option.\n"
          ]
        }
      ],
      "source": [
        "import numpy as np\n",
        "import pandas as pd\n",
        "import re\n",
        "\n",
        "from joblib import dump, load\n",
        "\n",
        "import matplotlib.pyplot as plt\n",
        "import seaborn as sns\n",
        "\n",
        "import nltk\n",
        "import spacy\n",
        "import numpy as np\n",
        "from nltk.corpus import stopwords\n",
        "from nltk.tokenize import WordPunctTokenizer\n",
        "from nltk.stem import PorterStemmer\n",
        "\n",
        "from sklearn.model_selection import train_test_split\n",
        "from sklearn.linear_model import LinearRegression\n",
        "from sklearn.pipeline import Pipeline\n",
        "from sklearn.compose import ColumnTransformer\n",
        "from sklearn.preprocessing import StandardScaler\n",
        "from sklearn.preprocessing import PolynomialFeatures\n",
        "from sklearn.preprocessing import OneHotEncoder, StandardScaler\n",
        "from sklearn.impute import SimpleImputer\n",
        "from sklearn.metrics import mean_absolute_error, mean_squared_error, r2_score\n",
        "from sklearn.base import BaseEstimator, TransformerMixin\n",
        "from sklearn.compose import TransformedTargetRegressor\n",
        "from sklearn.feature_extraction.text import CountVectorizer, TfidfTransformer\n",
        "from sklearn.model_selection import train_test_split\n",
        "from sklearn.ensemble import RandomForestClassifier\n",
        "from sklearn.metrics import classification_report, accuracy_score\n",
        "from sklearn.preprocessing import FunctionTransformer\n",
        "from sklearn.linear_model import Lasso, Ridge\n",
        "from sklearn.feature_extraction.text import TfidfVectorizer\n",
        "from sklearn.model_selection import GridSearchCV\n",
        "\n",
        "from sklearn.naive_bayes import MultinomialNB\n",
        "from sklearn.metrics import classification_report\n",
        "\n",
        "\n",
        "import scipy.stats as stats\n",
        "import statsmodels.api as sm\n",
        "\n",
        "import joblib\n",
        "\n",
        "!python -m spacy download es_core_news_sm"
      ]
    },
    {
      "cell_type": "markdown",
      "source": [
        "### Carga de datos"
      ],
      "metadata": {
        "id": "B5keVYjkQzpr"
      },
      "id": "B5keVYjkQzpr"
    },
    {
      "cell_type": "code",
      "source": [
        "df_unfpa = pd.read_excel('/content/ODScat_345.xlsx', index_col=0)\n",
        "df_unfpa.shape"
      ],
      "metadata": {
        "colab": {
          "base_uri": "https://localhost:8080/"
        },
        "id": "cxHKJUrwotsX",
        "outputId": "93573bfa-ab1c-4b72-8b12-1ab3bb99ccef"
      },
      "id": "cxHKJUrwotsX",
      "execution_count": 2,
      "outputs": [
        {
          "output_type": "execute_result",
          "data": {
            "text/plain": [
              "(4049, 1)"
            ]
          },
          "metadata": {},
          "execution_count": 2
        }
      ]
    },
    {
      "cell_type": "markdown",
      "source": [
        "### Exploración y descripción de los datos"
      ],
      "metadata": {
        "id": "CO750E6DQ9hk"
      },
      "id": "CO750E6DQ9hk"
    },
    {
      "cell_type": "markdown",
      "source": [
        "En este caso solo hay dos columnas. Una de texto y la otra tipo Integer."
      ],
      "metadata": {
        "id": "KhNwXaxtRG03"
      },
      "id": "KhNwXaxtRG03"
    },
    {
      "cell_type": "code",
      "source": [
        "df_unfpa.sample(5)"
      ],
      "metadata": {
        "colab": {
          "base_uri": "https://localhost:8080/",
          "height": 446
        },
        "id": "vvXy7K9Zqc7z",
        "outputId": "a793e784-8593-4109-f61a-c85f0870c9f1"
      },
      "id": "vvXy7K9Zqc7z",
      "execution_count": 3,
      "outputs": [
        {
          "output_type": "execute_result",
          "data": {
            "text/plain": [
              "                                                    sdg\n",
              "Textos_espanol                                         \n",
              "Los exámenes nacionales de sexto y noveno grado...    4\n",
              "Tomar el logaritmo del PIB per cápita a menudo ...    5\n",
              "La universidad considera la I+D como un medio d...    4\n",
              "Estas diferencias de género pueden explicarse e...    3\n",
              "La colaboración es la consigna para la continui...    4"
            ],
            "text/html": [
              "\n",
              "  <div id=\"df-76639687-14b2-4442-bd11-88e75c6992b7\" class=\"colab-df-container\">\n",
              "    <div>\n",
              "<style scoped>\n",
              "    .dataframe tbody tr th:only-of-type {\n",
              "        vertical-align: middle;\n",
              "    }\n",
              "\n",
              "    .dataframe tbody tr th {\n",
              "        vertical-align: top;\n",
              "    }\n",
              "\n",
              "    .dataframe thead th {\n",
              "        text-align: right;\n",
              "    }\n",
              "</style>\n",
              "<table border=\"1\" class=\"dataframe\">\n",
              "  <thead>\n",
              "    <tr style=\"text-align: right;\">\n",
              "      <th></th>\n",
              "      <th>sdg</th>\n",
              "    </tr>\n",
              "    <tr>\n",
              "      <th>Textos_espanol</th>\n",
              "      <th></th>\n",
              "    </tr>\n",
              "  </thead>\n",
              "  <tbody>\n",
              "    <tr>\n",
              "      <th>Los exámenes nacionales de sexto y noveno grado, que determinaban si los estudiantes podían pasar al siguiente nivel, también se suspendieron en 2007 para eliminar los obstáculos a la transición (ver Figura 4.4). La evaluación se ha aplicado dos veces en educación primaria (2007 y 2010) y tres veces en educación secundaria inferior (2008, 2012, 2014). Pone a prueba el conocimiento de los estudiantes sobre el plan de estudios en materias básicas y también examina las características sociodemográficas, los recursos y el clima de las escuelas.</th>\n",
              "      <td>4</td>\n",
              "    </tr>\n",
              "    <tr>\n",
              "      <th>Tomar el logaritmo del PIB per cápita a menudo puede capturar bien esta relación. La proporción entre mujeres y hombres miembros del parlamento es la única excepción y se caracteriza por una relación lineal con el PIB per cápita. Aunque todavía vivimos en un mundo donde las mujeres están, en promedio, en desventaja con respecto a los hombres, la situación parece haber mejorado en la segunda mitad del siglo XX, especialmente a partir de la década de 1980.</th>\n",
              "      <td>5</td>\n",
              "    </tr>\n",
              "    <tr>\n",
              "      <th>La universidad considera la I+D como un medio de diversificar la financiación y sacar partido de sus 600 investigadores. La comercialización de la investigación es una actividad crucial. Los resultados son sustanciales pero limitados: en 2008, la Fundación de Investigación y Desarrollo del Technion participó directamente en la puesta en marcha de seis nuevas empresas en ámbitos como equipos médicos, células madre embrionarias del medio ambiente, energías alternativas y sistemas de imagen. Además, la facultad firmó acuerdos de licencia.</th>\n",
              "      <td>4</td>\n",
              "    </tr>\n",
              "    <tr>\n",
              "      <th>Estas diferencias de género pueden explicarse en parte por la mayor prevalencia de factores de riesgo e incidencia de enfermedades entre los hombres en Letonia. Por ejemplo, la incidencia de cáncer es aproximadamente un 60 % mayor para los hombres que para las mujeres en Letonia, mientras que la brecha de género es mucho menor, inferior al 10 %, en el Reino Unido, Dinamarca e Islandia (OCDE, 2015a). La tasa de mortalidad por cardiopatía isquémica y accidente cerebrovascular es tres veces mayor que el promedio de la OCDE (357 por 100 000 habitantes en comparación con 117, y 200 por 100 000 habitantes en comparación con 66, respectivamente en 2013).</th>\n",
              "      <td>3</td>\n",
              "    </tr>\n",
              "    <tr>\n",
              "      <th>La colaboración es la consigna para la continuidad del desarrollo, y se explora aquí para una variedad de actores involucrados en el desarrollo infantil, incluidos los propios niños, sus padres, el personal de la EAPI y de la escuela primaria, y los servicios comunitarios. El capítulo se basa en una encuesta de países de la OCDE y países socios para delinear tendencias clave entre jurisdicciones, así como similitudes y diferencias. Describe cinco desafíos principales destacados por los países participantes que están obstaculizando la continuidad del desarrollo, junto con una gran cantidad de estrategias prácticas para abordarlos.</th>\n",
              "      <td>4</td>\n",
              "    </tr>\n",
              "  </tbody>\n",
              "</table>\n",
              "</div>\n",
              "    <div class=\"colab-df-buttons\">\n",
              "\n",
              "  <div class=\"colab-df-container\">\n",
              "    <button class=\"colab-df-convert\" onclick=\"convertToInteractive('df-76639687-14b2-4442-bd11-88e75c6992b7')\"\n",
              "            title=\"Convert this dataframe to an interactive table.\"\n",
              "            style=\"display:none;\">\n",
              "\n",
              "  <svg xmlns=\"http://www.w3.org/2000/svg\" height=\"24px\" viewBox=\"0 -960 960 960\">\n",
              "    <path d=\"M120-120v-720h720v720H120Zm60-500h600v-160H180v160Zm220 220h160v-160H400v160Zm0 220h160v-160H400v160ZM180-400h160v-160H180v160Zm440 0h160v-160H620v160ZM180-180h160v-160H180v160Zm440 0h160v-160H620v160Z\"/>\n",
              "  </svg>\n",
              "    </button>\n",
              "\n",
              "  <style>\n",
              "    .colab-df-container {\n",
              "      display:flex;\n",
              "      gap: 12px;\n",
              "    }\n",
              "\n",
              "    .colab-df-convert {\n",
              "      background-color: #E8F0FE;\n",
              "      border: none;\n",
              "      border-radius: 50%;\n",
              "      cursor: pointer;\n",
              "      display: none;\n",
              "      fill: #1967D2;\n",
              "      height: 32px;\n",
              "      padding: 0 0 0 0;\n",
              "      width: 32px;\n",
              "    }\n",
              "\n",
              "    .colab-df-convert:hover {\n",
              "      background-color: #E2EBFA;\n",
              "      box-shadow: 0px 1px 2px rgba(60, 64, 67, 0.3), 0px 1px 3px 1px rgba(60, 64, 67, 0.15);\n",
              "      fill: #174EA6;\n",
              "    }\n",
              "\n",
              "    .colab-df-buttons div {\n",
              "      margin-bottom: 4px;\n",
              "    }\n",
              "\n",
              "    [theme=dark] .colab-df-convert {\n",
              "      background-color: #3B4455;\n",
              "      fill: #D2E3FC;\n",
              "    }\n",
              "\n",
              "    [theme=dark] .colab-df-convert:hover {\n",
              "      background-color: #434B5C;\n",
              "      box-shadow: 0px 1px 3px 1px rgba(0, 0, 0, 0.15);\n",
              "      filter: drop-shadow(0px 1px 2px rgba(0, 0, 0, 0.3));\n",
              "      fill: #FFFFFF;\n",
              "    }\n",
              "  </style>\n",
              "\n",
              "    <script>\n",
              "      const buttonEl =\n",
              "        document.querySelector('#df-76639687-14b2-4442-bd11-88e75c6992b7 button.colab-df-convert');\n",
              "      buttonEl.style.display =\n",
              "        google.colab.kernel.accessAllowed ? 'block' : 'none';\n",
              "\n",
              "      async function convertToInteractive(key) {\n",
              "        const element = document.querySelector('#df-76639687-14b2-4442-bd11-88e75c6992b7');\n",
              "        const dataTable =\n",
              "          await google.colab.kernel.invokeFunction('convertToInteractive',\n",
              "                                                    [key], {});\n",
              "        if (!dataTable) return;\n",
              "\n",
              "        const docLinkHtml = 'Like what you see? Visit the ' +\n",
              "          '<a target=\"_blank\" href=https://colab.research.google.com/notebooks/data_table.ipynb>data table notebook</a>'\n",
              "          + ' to learn more about interactive tables.';\n",
              "        element.innerHTML = '';\n",
              "        dataTable['output_type'] = 'display_data';\n",
              "        await google.colab.output.renderOutput(dataTable, element);\n",
              "        const docLink = document.createElement('div');\n",
              "        docLink.innerHTML = docLinkHtml;\n",
              "        element.appendChild(docLink);\n",
              "      }\n",
              "    </script>\n",
              "  </div>\n",
              "\n",
              "\n",
              "<div id=\"df-66136c17-07c3-4335-8a1b-f53a07558b2d\">\n",
              "  <button class=\"colab-df-quickchart\" onclick=\"quickchart('df-66136c17-07c3-4335-8a1b-f53a07558b2d')\"\n",
              "            title=\"Suggest charts\"\n",
              "            style=\"display:none;\">\n",
              "\n",
              "<svg xmlns=\"http://www.w3.org/2000/svg\" height=\"24px\"viewBox=\"0 0 24 24\"\n",
              "     width=\"24px\">\n",
              "    <g>\n",
              "        <path d=\"M19 3H5c-1.1 0-2 .9-2 2v14c0 1.1.9 2 2 2h14c1.1 0 2-.9 2-2V5c0-1.1-.9-2-2-2zM9 17H7v-7h2v7zm4 0h-2V7h2v10zm4 0h-2v-4h2v4z\"/>\n",
              "    </g>\n",
              "</svg>\n",
              "  </button>\n",
              "\n",
              "<style>\n",
              "  .colab-df-quickchart {\n",
              "      --bg-color: #E8F0FE;\n",
              "      --fill-color: #1967D2;\n",
              "      --hover-bg-color: #E2EBFA;\n",
              "      --hover-fill-color: #174EA6;\n",
              "      --disabled-fill-color: #AAA;\n",
              "      --disabled-bg-color: #DDD;\n",
              "  }\n",
              "\n",
              "  [theme=dark] .colab-df-quickchart {\n",
              "      --bg-color: #3B4455;\n",
              "      --fill-color: #D2E3FC;\n",
              "      --hover-bg-color: #434B5C;\n",
              "      --hover-fill-color: #FFFFFF;\n",
              "      --disabled-bg-color: #3B4455;\n",
              "      --disabled-fill-color: #666;\n",
              "  }\n",
              "\n",
              "  .colab-df-quickchart {\n",
              "    background-color: var(--bg-color);\n",
              "    border: none;\n",
              "    border-radius: 50%;\n",
              "    cursor: pointer;\n",
              "    display: none;\n",
              "    fill: var(--fill-color);\n",
              "    height: 32px;\n",
              "    padding: 0;\n",
              "    width: 32px;\n",
              "  }\n",
              "\n",
              "  .colab-df-quickchart:hover {\n",
              "    background-color: var(--hover-bg-color);\n",
              "    box-shadow: 0 1px 2px rgba(60, 64, 67, 0.3), 0 1px 3px 1px rgba(60, 64, 67, 0.15);\n",
              "    fill: var(--button-hover-fill-color);\n",
              "  }\n",
              "\n",
              "  .colab-df-quickchart-complete:disabled,\n",
              "  .colab-df-quickchart-complete:disabled:hover {\n",
              "    background-color: var(--disabled-bg-color);\n",
              "    fill: var(--disabled-fill-color);\n",
              "    box-shadow: none;\n",
              "  }\n",
              "\n",
              "  .colab-df-spinner {\n",
              "    border: 2px solid var(--fill-color);\n",
              "    border-color: transparent;\n",
              "    border-bottom-color: var(--fill-color);\n",
              "    animation:\n",
              "      spin 1s steps(1) infinite;\n",
              "  }\n",
              "\n",
              "  @keyframes spin {\n",
              "    0% {\n",
              "      border-color: transparent;\n",
              "      border-bottom-color: var(--fill-color);\n",
              "      border-left-color: var(--fill-color);\n",
              "    }\n",
              "    20% {\n",
              "      border-color: transparent;\n",
              "      border-left-color: var(--fill-color);\n",
              "      border-top-color: var(--fill-color);\n",
              "    }\n",
              "    30% {\n",
              "      border-color: transparent;\n",
              "      border-left-color: var(--fill-color);\n",
              "      border-top-color: var(--fill-color);\n",
              "      border-right-color: var(--fill-color);\n",
              "    }\n",
              "    40% {\n",
              "      border-color: transparent;\n",
              "      border-right-color: var(--fill-color);\n",
              "      border-top-color: var(--fill-color);\n",
              "    }\n",
              "    60% {\n",
              "      border-color: transparent;\n",
              "      border-right-color: var(--fill-color);\n",
              "    }\n",
              "    80% {\n",
              "      border-color: transparent;\n",
              "      border-right-color: var(--fill-color);\n",
              "      border-bottom-color: var(--fill-color);\n",
              "    }\n",
              "    90% {\n",
              "      border-color: transparent;\n",
              "      border-bottom-color: var(--fill-color);\n",
              "    }\n",
              "  }\n",
              "</style>\n",
              "\n",
              "  <script>\n",
              "    async function quickchart(key) {\n",
              "      const quickchartButtonEl =\n",
              "        document.querySelector('#' + key + ' button');\n",
              "      quickchartButtonEl.disabled = true;  // To prevent multiple clicks.\n",
              "      quickchartButtonEl.classList.add('colab-df-spinner');\n",
              "      try {\n",
              "        const charts = await google.colab.kernel.invokeFunction(\n",
              "            'suggestCharts', [key], {});\n",
              "      } catch (error) {\n",
              "        console.error('Error during call to suggestCharts:', error);\n",
              "      }\n",
              "      quickchartButtonEl.classList.remove('colab-df-spinner');\n",
              "      quickchartButtonEl.classList.add('colab-df-quickchart-complete');\n",
              "    }\n",
              "    (() => {\n",
              "      let quickchartButtonEl =\n",
              "        document.querySelector('#df-66136c17-07c3-4335-8a1b-f53a07558b2d button');\n",
              "      quickchartButtonEl.style.display =\n",
              "        google.colab.kernel.accessAllowed ? 'block' : 'none';\n",
              "    })();\n",
              "  </script>\n",
              "</div>\n",
              "\n",
              "    </div>\n",
              "  </div>\n"
            ],
            "application/vnd.google.colaboratory.intrinsic+json": {
              "type": "dataframe",
              "summary": "{\n  \"name\": \"df_unfpa\",\n  \"rows\": 5,\n  \"fields\": [\n    {\n      \"column\": \"Textos_espanol\",\n      \"properties\": {\n        \"dtype\": \"string\",\n        \"num_unique_values\": 5,\n        \"samples\": [\n          \"Tomar el logaritmo del PIB per c\\u00e1pita a menudo puede capturar bien esta relaci\\u00f3n. La proporci\\u00f3n entre mujeres y hombres miembros del parlamento es la \\u00fanica excepci\\u00f3n y se caracteriza por una relaci\\u00f3n lineal con el PIB per c\\u00e1pita. Aunque todav\\u00eda vivimos en un mundo donde las mujeres est\\u00e1n, en promedio, en desventaja con respecto a los hombres, la situaci\\u00f3n parece haber mejorado en la segunda mitad del siglo XX, especialmente a partir de la d\\u00e9cada de 1980.\",\n          \"La colaboraci\\u00f3n es la consigna para la continuidad del desarrollo, y se explora aqu\\u00ed para una variedad de actores involucrados en el desarrollo infantil, incluidos los propios ni\\u00f1os, sus padres, el personal de la EAPI y de la escuela primaria, y los servicios comunitarios. El cap\\u00edtulo se basa en una encuesta de pa\\u00edses de la OCDE y pa\\u00edses socios para delinear tendencias clave entre jurisdicciones, as\\u00ed como similitudes y diferencias. Describe cinco desaf\\u00edos principales destacados por los pa\\u00edses participantes que est\\u00e1n obstaculizando la continuidad del desarrollo, junto con una gran cantidad de estrategias pr\\u00e1cticas para abordarlos.\",\n          \"La universidad considera la I+D como un medio de diversificar la financiaci\\u00f3n y sacar partido de sus 600 investigadores. La comercializaci\\u00f3n de la investigaci\\u00f3n es una actividad crucial. Los resultados son sustanciales pero limitados: en 2008, la Fundaci\\u00f3n de Investigaci\\u00f3n y Desarrollo del Technion particip\\u00f3 directamente en la puesta en marcha de seis nuevas empresas en \\u00e1mbitos como equipos m\\u00e9dicos, c\\u00e9lulas madre embrionarias del medio ambiente, energ\\u00edas alternativas y sistemas de imagen. Adem\\u00e1s, la facultad firm\\u00f3 acuerdos de licencia.\"\n        ],\n        \"semantic_type\": \"\",\n        \"description\": \"\"\n      }\n    },\n    {\n      \"column\": \"sdg\",\n      \"properties\": {\n        \"dtype\": \"number\",\n        \"std\": 0,\n        \"min\": 3,\n        \"max\": 5,\n        \"num_unique_values\": 3,\n        \"samples\": [\n          4,\n          5,\n          3\n        ],\n        \"semantic_type\": \"\",\n        \"description\": \"\"\n      }\n    }\n  ]\n}"
            }
          },
          "metadata": {},
          "execution_count": 3
        }
      ]
    },
    {
      "cell_type": "code",
      "source": [
        "df_unfpa.dtypes"
      ],
      "metadata": {
        "colab": {
          "base_uri": "https://localhost:8080/",
          "height": 115
        },
        "id": "AUOZwf9grFpX",
        "outputId": "41cd5587-3595-4b8b-9c7e-956878c2c73a"
      },
      "id": "AUOZwf9grFpX",
      "execution_count": 4,
      "outputs": [
        {
          "output_type": "execute_result",
          "data": {
            "text/plain": [
              "sdg    int64\n",
              "dtype: object"
            ],
            "text/html": [
              "<div>\n",
              "<style scoped>\n",
              "    .dataframe tbody tr th:only-of-type {\n",
              "        vertical-align: middle;\n",
              "    }\n",
              "\n",
              "    .dataframe tbody tr th {\n",
              "        vertical-align: top;\n",
              "    }\n",
              "\n",
              "    .dataframe thead th {\n",
              "        text-align: right;\n",
              "    }\n",
              "</style>\n",
              "<table border=\"1\" class=\"dataframe\">\n",
              "  <thead>\n",
              "    <tr style=\"text-align: right;\">\n",
              "      <th></th>\n",
              "      <th>0</th>\n",
              "    </tr>\n",
              "  </thead>\n",
              "  <tbody>\n",
              "    <tr>\n",
              "      <th>sdg</th>\n",
              "      <td>int64</td>\n",
              "    </tr>\n",
              "  </tbody>\n",
              "</table>\n",
              "</div><br><label><b>dtype:</b> object</label>"
            ]
          },
          "metadata": {},
          "execution_count": 4
        }
      ]
    },
    {
      "cell_type": "markdown",
      "source": [
        "### Calidad y preparación de datos"
      ],
      "metadata": {
        "id": "EGO5GNtAR1I0"
      },
      "id": "EGO5GNtAR1I0"
    },
    {
      "cell_type": "markdown",
      "source": [
        "1. Completitud"
      ],
      "metadata": {
        "id": "HQPykLHvR_sE"
      },
      "id": "HQPykLHvR_sE"
    },
    {
      "cell_type": "code",
      "source": [
        "df_unfpa = df_unfpa.reset_index()"
      ],
      "metadata": {
        "id": "MRX2nnd_z638"
      },
      "id": "MRX2nnd_z638",
      "execution_count": 5,
      "outputs": []
    },
    {
      "cell_type": "code",
      "source": [
        "df_unfpa.isnull().sum()"
      ],
      "metadata": {
        "colab": {
          "base_uri": "https://localhost:8080/",
          "height": 147
        },
        "id": "dTrmbTTftnSJ",
        "outputId": "e5a9fb73-5b3d-4fe6-e4dd-fc4ed3d084d4"
      },
      "id": "dTrmbTTftnSJ",
      "execution_count": 6,
      "outputs": [
        {
          "output_type": "execute_result",
          "data": {
            "text/plain": [
              "Textos_espanol    0\n",
              "sdg               0\n",
              "dtype: int64"
            ],
            "text/html": [
              "<div>\n",
              "<style scoped>\n",
              "    .dataframe tbody tr th:only-of-type {\n",
              "        vertical-align: middle;\n",
              "    }\n",
              "\n",
              "    .dataframe tbody tr th {\n",
              "        vertical-align: top;\n",
              "    }\n",
              "\n",
              "    .dataframe thead th {\n",
              "        text-align: right;\n",
              "    }\n",
              "</style>\n",
              "<table border=\"1\" class=\"dataframe\">\n",
              "  <thead>\n",
              "    <tr style=\"text-align: right;\">\n",
              "      <th></th>\n",
              "      <th>0</th>\n",
              "    </tr>\n",
              "  </thead>\n",
              "  <tbody>\n",
              "    <tr>\n",
              "      <th>Textos_espanol</th>\n",
              "      <td>0</td>\n",
              "    </tr>\n",
              "    <tr>\n",
              "      <th>sdg</th>\n",
              "      <td>0</td>\n",
              "    </tr>\n",
              "  </tbody>\n",
              "</table>\n",
              "</div><br><label><b>dtype:</b> int64</label>"
            ]
          },
          "metadata": {},
          "execution_count": 6
        }
      ]
    },
    {
      "cell_type": "markdown",
      "source": [
        "2. Unicidad / Duplicidad"
      ],
      "metadata": {
        "id": "h-TIoaOoSJ07"
      },
      "id": "h-TIoaOoSJ07"
    },
    {
      "cell_type": "code",
      "source": [
        "df_unfpa.loc[df_unfpa.duplicated(subset = 'Textos_espanol', keep = False)]"
      ],
      "metadata": {
        "colab": {
          "base_uri": "https://localhost:8080/",
          "height": 53
        },
        "id": "cSCI_KgoSlAe",
        "outputId": "48643894-3eb1-4cf4-a9f0-b3a96299889d"
      },
      "id": "cSCI_KgoSlAe",
      "execution_count": 7,
      "outputs": [
        {
          "output_type": "execute_result",
          "data": {
            "text/plain": [
              "Empty DataFrame\n",
              "Columns: [Textos_espanol, sdg]\n",
              "Index: []"
            ],
            "text/html": [
              "\n",
              "  <div id=\"df-a030f011-b33e-41c1-be60-51bd8aeafbbf\" class=\"colab-df-container\">\n",
              "    <div>\n",
              "<style scoped>\n",
              "    .dataframe tbody tr th:only-of-type {\n",
              "        vertical-align: middle;\n",
              "    }\n",
              "\n",
              "    .dataframe tbody tr th {\n",
              "        vertical-align: top;\n",
              "    }\n",
              "\n",
              "    .dataframe thead th {\n",
              "        text-align: right;\n",
              "    }\n",
              "</style>\n",
              "<table border=\"1\" class=\"dataframe\">\n",
              "  <thead>\n",
              "    <tr style=\"text-align: right;\">\n",
              "      <th></th>\n",
              "      <th>Textos_espanol</th>\n",
              "      <th>sdg</th>\n",
              "    </tr>\n",
              "  </thead>\n",
              "  <tbody>\n",
              "  </tbody>\n",
              "</table>\n",
              "</div>\n",
              "    <div class=\"colab-df-buttons\">\n",
              "\n",
              "  <div class=\"colab-df-container\">\n",
              "    <button class=\"colab-df-convert\" onclick=\"convertToInteractive('df-a030f011-b33e-41c1-be60-51bd8aeafbbf')\"\n",
              "            title=\"Convert this dataframe to an interactive table.\"\n",
              "            style=\"display:none;\">\n",
              "\n",
              "  <svg xmlns=\"http://www.w3.org/2000/svg\" height=\"24px\" viewBox=\"0 -960 960 960\">\n",
              "    <path d=\"M120-120v-720h720v720H120Zm60-500h600v-160H180v160Zm220 220h160v-160H400v160Zm0 220h160v-160H400v160ZM180-400h160v-160H180v160Zm440 0h160v-160H620v160ZM180-180h160v-160H180v160Zm440 0h160v-160H620v160Z\"/>\n",
              "  </svg>\n",
              "    </button>\n",
              "\n",
              "  <style>\n",
              "    .colab-df-container {\n",
              "      display:flex;\n",
              "      gap: 12px;\n",
              "    }\n",
              "\n",
              "    .colab-df-convert {\n",
              "      background-color: #E8F0FE;\n",
              "      border: none;\n",
              "      border-radius: 50%;\n",
              "      cursor: pointer;\n",
              "      display: none;\n",
              "      fill: #1967D2;\n",
              "      height: 32px;\n",
              "      padding: 0 0 0 0;\n",
              "      width: 32px;\n",
              "    }\n",
              "\n",
              "    .colab-df-convert:hover {\n",
              "      background-color: #E2EBFA;\n",
              "      box-shadow: 0px 1px 2px rgba(60, 64, 67, 0.3), 0px 1px 3px 1px rgba(60, 64, 67, 0.15);\n",
              "      fill: #174EA6;\n",
              "    }\n",
              "\n",
              "    .colab-df-buttons div {\n",
              "      margin-bottom: 4px;\n",
              "    }\n",
              "\n",
              "    [theme=dark] .colab-df-convert {\n",
              "      background-color: #3B4455;\n",
              "      fill: #D2E3FC;\n",
              "    }\n",
              "\n",
              "    [theme=dark] .colab-df-convert:hover {\n",
              "      background-color: #434B5C;\n",
              "      box-shadow: 0px 1px 3px 1px rgba(0, 0, 0, 0.15);\n",
              "      filter: drop-shadow(0px 1px 2px rgba(0, 0, 0, 0.3));\n",
              "      fill: #FFFFFF;\n",
              "    }\n",
              "  </style>\n",
              "\n",
              "    <script>\n",
              "      const buttonEl =\n",
              "        document.querySelector('#df-a030f011-b33e-41c1-be60-51bd8aeafbbf button.colab-df-convert');\n",
              "      buttonEl.style.display =\n",
              "        google.colab.kernel.accessAllowed ? 'block' : 'none';\n",
              "\n",
              "      async function convertToInteractive(key) {\n",
              "        const element = document.querySelector('#df-a030f011-b33e-41c1-be60-51bd8aeafbbf');\n",
              "        const dataTable =\n",
              "          await google.colab.kernel.invokeFunction('convertToInteractive',\n",
              "                                                    [key], {});\n",
              "        if (!dataTable) return;\n",
              "\n",
              "        const docLinkHtml = 'Like what you see? Visit the ' +\n",
              "          '<a target=\"_blank\" href=https://colab.research.google.com/notebooks/data_table.ipynb>data table notebook</a>'\n",
              "          + ' to learn more about interactive tables.';\n",
              "        element.innerHTML = '';\n",
              "        dataTable['output_type'] = 'display_data';\n",
              "        await google.colab.output.renderOutput(dataTable, element);\n",
              "        const docLink = document.createElement('div');\n",
              "        docLink.innerHTML = docLinkHtml;\n",
              "        element.appendChild(docLink);\n",
              "      }\n",
              "    </script>\n",
              "  </div>\n",
              "\n",
              "\n",
              "    </div>\n",
              "  </div>\n"
            ],
            "application/vnd.google.colaboratory.intrinsic+json": {
              "type": "dataframe",
              "repr_error": "Out of range float values are not JSON compliant: nan"
            }
          },
          "metadata": {},
          "execution_count": 7
        }
      ]
    },
    {
      "cell_type": "code",
      "source": [
        "df_unfpa.duplicated(subset = 'Textos_espanol', keep = False).sum()"
      ],
      "metadata": {
        "colab": {
          "base_uri": "https://localhost:8080/"
        },
        "id": "iy8YTZ22TIlY",
        "outputId": "0f9a558c-7628-4a4c-8f43-82fea2eddacf"
      },
      "id": "iy8YTZ22TIlY",
      "execution_count": 8,
      "outputs": [
        {
          "output_type": "execute_result",
          "data": {
            "text/plain": [
              "0"
            ]
          },
          "metadata": {},
          "execution_count": 8
        }
      ]
    },
    {
      "cell_type": "markdown",
      "source": [
        "3. Consistencia"
      ],
      "metadata": {
        "id": "leGgoHWtSZM3"
      },
      "id": "leGgoHWtSZM3"
    },
    {
      "cell_type": "code",
      "source": [
        "df_unfpa['sdg'].describe()"
      ],
      "metadata": {
        "colab": {
          "base_uri": "https://localhost:8080/",
          "height": 335
        },
        "id": "BF1cjwLrr6_O",
        "outputId": "6b9d856a-0b9e-49f9-8bae-48bb3301f667"
      },
      "id": "BF1cjwLrr6_O",
      "execution_count": 9,
      "outputs": [
        {
          "output_type": "execute_result",
          "data": {
            "text/plain": [
              "count    4049.000000\n",
              "mean        4.051124\n",
              "std         0.814338\n",
              "min         3.000000\n",
              "25%         3.000000\n",
              "50%         4.000000\n",
              "75%         5.000000\n",
              "max         5.000000\n",
              "Name: sdg, dtype: float64"
            ],
            "text/html": [
              "<div>\n",
              "<style scoped>\n",
              "    .dataframe tbody tr th:only-of-type {\n",
              "        vertical-align: middle;\n",
              "    }\n",
              "\n",
              "    .dataframe tbody tr th {\n",
              "        vertical-align: top;\n",
              "    }\n",
              "\n",
              "    .dataframe thead th {\n",
              "        text-align: right;\n",
              "    }\n",
              "</style>\n",
              "<table border=\"1\" class=\"dataframe\">\n",
              "  <thead>\n",
              "    <tr style=\"text-align: right;\">\n",
              "      <th></th>\n",
              "      <th>sdg</th>\n",
              "    </tr>\n",
              "  </thead>\n",
              "  <tbody>\n",
              "    <tr>\n",
              "      <th>count</th>\n",
              "      <td>4049.000000</td>\n",
              "    </tr>\n",
              "    <tr>\n",
              "      <th>mean</th>\n",
              "      <td>4.051124</td>\n",
              "    </tr>\n",
              "    <tr>\n",
              "      <th>std</th>\n",
              "      <td>0.814338</td>\n",
              "    </tr>\n",
              "    <tr>\n",
              "      <th>min</th>\n",
              "      <td>3.000000</td>\n",
              "    </tr>\n",
              "    <tr>\n",
              "      <th>25%</th>\n",
              "      <td>3.000000</td>\n",
              "    </tr>\n",
              "    <tr>\n",
              "      <th>50%</th>\n",
              "      <td>4.000000</td>\n",
              "    </tr>\n",
              "    <tr>\n",
              "      <th>75%</th>\n",
              "      <td>5.000000</td>\n",
              "    </tr>\n",
              "    <tr>\n",
              "      <th>max</th>\n",
              "      <td>5.000000</td>\n",
              "    </tr>\n",
              "  </tbody>\n",
              "</table>\n",
              "</div><br><label><b>dtype:</b> float64</label>"
            ]
          },
          "metadata": {},
          "execution_count": 9
        }
      ]
    },
    {
      "cell_type": "code",
      "source": [
        "df_unfpa['sdg'].value_counts()"
      ],
      "metadata": {
        "colab": {
          "base_uri": "https://localhost:8080/",
          "height": 210
        },
        "id": "Qg4LA69KtcsW",
        "outputId": "0ba9ce4a-4951-400d-f2f2-4b499e0154f2"
      },
      "id": "Qg4LA69KtcsW",
      "execution_count": 10,
      "outputs": [
        {
          "output_type": "execute_result",
          "data": {
            "text/plain": [
              "sdg\n",
              "5    1451\n",
              "4    1354\n",
              "3    1244\n",
              "Name: count, dtype: int64"
            ],
            "text/html": [
              "<div>\n",
              "<style scoped>\n",
              "    .dataframe tbody tr th:only-of-type {\n",
              "        vertical-align: middle;\n",
              "    }\n",
              "\n",
              "    .dataframe tbody tr th {\n",
              "        vertical-align: top;\n",
              "    }\n",
              "\n",
              "    .dataframe thead th {\n",
              "        text-align: right;\n",
              "    }\n",
              "</style>\n",
              "<table border=\"1\" class=\"dataframe\">\n",
              "  <thead>\n",
              "    <tr style=\"text-align: right;\">\n",
              "      <th></th>\n",
              "      <th>count</th>\n",
              "    </tr>\n",
              "    <tr>\n",
              "      <th>sdg</th>\n",
              "      <th></th>\n",
              "    </tr>\n",
              "  </thead>\n",
              "  <tbody>\n",
              "    <tr>\n",
              "      <th>5</th>\n",
              "      <td>1451</td>\n",
              "    </tr>\n",
              "    <tr>\n",
              "      <th>4</th>\n",
              "      <td>1354</td>\n",
              "    </tr>\n",
              "    <tr>\n",
              "      <th>3</th>\n",
              "      <td>1244</td>\n",
              "    </tr>\n",
              "  </tbody>\n",
              "</table>\n",
              "</div><br><label><b>dtype:</b> int64</label>"
            ]
          },
          "metadata": {},
          "execution_count": 10
        }
      ]
    },
    {
      "cell_type": "markdown",
      "source": [
        "4. Estandarización"
      ],
      "metadata": {
        "id": "q9LpPWkrSOVd"
      },
      "id": "q9LpPWkrSOVd"
    },
    {
      "cell_type": "markdown",
      "source": [
        "Aquí vamos a proceder a estandarizar y procesar el texto. Primero, vamos a normalizar pasando todo a minúsculas y vamos a usar la técnica de lemmatización para pasar las palabras a su significado raíz. Igualmente, vamos a eliminar las stops words, que son las palabras que no aportan nada al análisis (como conectores). Por último, vamos a vectorizar el corpus ya procesado para poder aplicarle la técina de TF-IDF, la cual saca un coeficiente TF-IDF que mide tanto importancia como número de apariciones. De esta manera obtenemos una matriz (que convertimos nuevamente en dataframe) con las palabras y los coeficientes TF-IDF."
      ],
      "metadata": {
        "id": "NJE2_JfrUp3g"
      },
      "id": "NJE2_JfrUp3g"
    },
    {
      "cell_type": "code",
      "source": [
        "corpus = df_unfpa['Textos_espanol'].tolist()"
      ],
      "metadata": {
        "id": "LZBL89S347u_"
      },
      "id": "LZBL89S347u_",
      "execution_count": 11,
      "outputs": []
    },
    {
      "cell_type": "code",
      "source": [
        "# Descargar las stopwords en español\n",
        "nltk.download('stopwords')\n",
        "stop_words = stopwords.words('spanish')\n",
        "\n",
        "# Tokenizador de NLTK y modelo de spaCy para lematización en español\n",
        "wpt = WordPunctTokenizer()\n",
        "nlp = spacy.load(\"es_core_news_sm\")\n",
        "\n",
        "# Función de normalización y lematización\n",
        "def normalize_document(doc):\n",
        "    # Convertir a minúsculas y eliminar espacios\n",
        "    doc = doc.lower().strip()\n",
        "    # Procesar todo el documento con spaCy de una sola vez\n",
        "    spacy_doc = nlp(doc)\n",
        "    # Lematización y eliminación de stopwords\n",
        "    lemmatized_tokens = [token.lemma_ for token in spacy_doc if token.text not in stop_words]\n",
        "    # Reconstruir el texto lematizado\n",
        "    doc = ' '.join(lemmatized_tokens)\n",
        "    return doc\n",
        "\n",
        "# Vectorizar el corpus usando la función de normalización\n",
        "normalize_corpus = np.vectorize(normalize_document)\n",
        "norm_corpus = normalize_corpus(corpus)\n",
        "norm_corpus"
      ],
      "metadata": {
        "colab": {
          "base_uri": "https://localhost:8080/"
        },
        "id": "2jU0lCMozQEU",
        "outputId": "811e73cb-5c65-44fc-ee24-c39e7eefb85a"
      },
      "id": "2jU0lCMozQEU",
      "execution_count": 12,
      "outputs": [
        {
          "output_type": "stream",
          "name": "stderr",
          "text": [
            "[nltk_data] Downloading package stopwords to /root/nltk_data...\n",
            "[nltk_data]   Unzipping corpora/stopwords.zip.\n"
          ]
        },
        {
          "output_type": "execute_result",
          "data": {
            "text/plain": [
              "array(['ejemplo , nãºmero consulta externo especialista 319 cada mil derechohabient sp , comparaciã³n 338 620 cada mil derechohabient imss issste , respectivamente . si bien diferencia poder reflejar necesidad desigual ( poblaciã³n ligeramente mayor issste ) , poder justificar él manera . nãºmero receta poder ser surtir totalidad farmacã © utico debido falta existencia 33% dentro sp comparaciã³n 14% dentro imss segãºn dato encuesta ( aunque propio cifra instituto ss sugerir tasa mã¡s alto receta surtida ) . ambos cifra encontrar mã¡s alto ocde . gasto bolsillo reducir significativamente último década , pesar esfuerzo lograr cobertura sanitario universal través reforma sp .',\n",
              "       '2007 , gobierno central financiar directamente solo 0,3% gasto total salud , realizar transferencia específico gasto salud ascender 5,6% gasto total . mayor parte gasto presupuestario salud realizar gobierno condado . , condado pobre solo poder ofrecer bajo nivel atención población local . gobierno provincial proporcionar subsidio lado oferta hospital .',\n",
              "       'claramente , factor juego , particular , variedad barrera determinant social . poder relacionado género , clase , etnia , casta , idioma religión , surgen estructura , norma proceso social arraigado aceptar incluso fomentar distribución injusto riqueza recurso social . ejemplo , persona vivir vih enfermedad crónico enfrentar alto nivel estigma discriminación dificultar acceso prueba médico , tratamiento , atención apoyo . , gobierno buscar mejorar estándar salud querer mejorar condición mujer , brindar servicio salud reproductivo efectivo , implementar programa integral lactancia materno línea recomendación actual aumentar presión comunitario aborto selectivo sexo . persona pobre , carecer educación información , fondo opción saludable , vulnerable impacto ent rico probable morir . directo indirectamente , ent impacto gran alcance progreso hacia odm .',\n",
              "       ...,\n",
              "       'según wef , según tendencia 2016 , poder cerrar él dentro 82 año . efecto , aunque mujer seguir insuficientemente representado toma decisión política , estadística generalmente apuntar progreso incremental oportunidad aprovechar logro alcanzado . brindar dato clave : dónde mujer ( faltar ) parlamento , gobierno local , gabinete alto dirección país .',\n",
              "       'servir recurso foro agencia , objetivo lograr enfoque integral gobierno federal política mujer niña . miembro consejo jefe todo agencia federal principal oficina casa blanco , reforzar declaración exsecretaria madeleine albright “ gobierno , responsabilidad avance mujer tarea solo agencia , ” . trabajo \" . despuã © s analizar enfoque cada agencia federal mujer , consejo trabajar asegurar cada agencia estã © mejorar directamente situaciã³n econã³mico mujer , asã desarrollar evaluar polãtica establecer equilibrio trabajo familia . consejo centrar encontrar nuevo forma prevenir violencia mujer través cooperación vicepresidente oficina violencia mujer departamento justicia .',\n",
              "       'área útil mayor estudio acción político incluir : disponibilidad rutinario dato desglosado \\u200b\\u200bpor género , incorporación enfoque específico género dentro rutina anual normal presupuestación complementación enfoque dirigido ejecutivo garantía calidad externo . uso dicho dato parte ocde perjuicio alto golán , jerusalén asentamiento israelí cisjordania según término derecho internacional . hoy día mucho disparidad desigualdad sexo parecer haber él incrustar , mayor menor medida , línea base política público asignación recurso público .'],\n",
              "      dtype='<U1107')"
            ]
          },
          "metadata": {},
          "execution_count": 12
        }
      ]
    },
    {
      "cell_type": "code",
      "source": [
        "# Vectorización con TF-IDF\n",
        "vectorizer = TfidfVectorizer(max_features=5000, stop_words=stop_words)\n",
        "X = vectorizer.fit_transform(norm_corpus)  # X es la matriz TF-IDF resultante\n",
        "print(X)\n",
        "y = df_unfpa['sdg']\n",
        "print(y)"
      ],
      "metadata": {
        "id": "EYyi4LyU6-ks",
        "colab": {
          "base_uri": "https://localhost:8080/"
        },
        "outputId": "d76a11ee-501d-42dd-df44-ba04b550f02a"
      },
      "id": "EYyi4LyU6-ks",
      "execution_count": 13,
      "outputs": [
        {
          "output_type": "stream",
          "name": "stdout",
          "text": [
            "  (0, 1764)\t0.05230980060436906\n",
            "  (0, 3358)\t0.2406667171475915\n",
            "  (0, 1144)\t0.09759329141077429\n",
            "  (0, 2133)\t0.09726144782889252\n",
            "  (0, 1942)\t0.09568640131020009\n",
            "  (0, 759)\t0.1237997663647814\n",
            "  (0, 3159)\t0.24304390586842747\n",
            "  (0, 4512)\t0.41519134466188595\n",
            "  (0, 992)\t0.26619785158424847\n",
            "  (0, 2552)\t0.28350979655139935\n",
            "  (0, 4215)\t0.10170288614552735\n",
            "  (0, 4411)\t0.05938049341125184\n",
            "  (0, 709)\t0.064650672127609\n",
            "  (0, 1568)\t0.06829049503291329\n",
            "  (0, 3691)\t0.11234515944336058\n",
            "  (0, 4101)\t0.07986746789082383\n",
            "  (0, 3279)\t0.0630435349569219\n",
            "  (0, 1509)\t0.09934860188596112\n",
            "  (0, 3685)\t0.12152195293421374\n",
            "  (0, 2960)\t0.10489400033742574\n",
            "  (0, 3091)\t0.05157977006973904\n",
            "  (0, 2854)\t0.12033335857379575\n",
            "  (0, 3034)\t0.07535309157580486\n",
            "  (0, 4044)\t0.2544680411643687\n",
            "  (0, 4384)\t0.049771979305166546\n",
            "  :\t:\n",
            "  (4048, 3123)\t0.11557355514920849\n",
            "  (4048, 4976)\t0.10385065839169462\n",
            "  (4048, 1602)\t0.1355043531376691\n",
            "  (4048, 231)\t0.11735412459248151\n",
            "  (4048, 4999)\t0.15585325163128702\n",
            "  (4048, 1850)\t0.20136090785260286\n",
            "  (4048, 1561)\t0.128304312240697\n",
            "  (4048, 3618)\t0.16578358178368027\n",
            "  (4048, 2369)\t0.16805431410947508\n",
            "  (4048, 2826)\t0.16805431410947508\n",
            "  (4048, 567)\t0.16578358178368027\n",
            "  (4048, 2812)\t0.15822283347260999\n",
            "  (4048, 899)\t0.16689528763512673\n",
            "  (4048, 4352)\t0.1076960497711398\n",
            "  (4048, 1451)\t0.09618483516522264\n",
            "  (4048, 4290)\t0.18359196887439358\n",
            "  (4048, 2411)\t0.1337691796236076\n",
            "  (4048, 1510)\t0.10821727164564911\n",
            "  (4048, 3324)\t0.1857717728632\n",
            "  (4048, 2322)\t0.15101445806551073\n",
            "  (4048, 575)\t0.14104896585319326\n",
            "  (4048, 2574)\t0.1574098473800258\n",
            "  (4048, 3807)\t0.19360622208743355\n",
            "  (4048, 1763)\t0.15585325163128702\n",
            "  (4048, 1505)\t0.16926486947644967\n",
            "0       3\n",
            "1       3\n",
            "2       3\n",
            "3       3\n",
            "4       3\n",
            "       ..\n",
            "4044    5\n",
            "4045    5\n",
            "4046    5\n",
            "4047    5\n",
            "4048    5\n",
            "Name: sdg, Length: 4049, dtype: int64\n"
          ]
        }
      ]
    },
    {
      "cell_type": "code",
      "source": [
        "# Obtener los nombres de las características (palabras) en el vocabulario\n",
        "vocab = vectorizer.get_feature_names_out()\n",
        "\n",
        "# Convertir la matriz dispersa TF-IDF a una matriz densa (completa)\n",
        "X_dense = X.toarray()\n",
        "\n",
        "# Crear un DataFrame de pandas con la matriz TF-IDF\n",
        "df_tfidf = pd.DataFrame(X_dense, columns=vocab)\n",
        "\n",
        "# Mostrar las primeras filas del DataFrame\n",
        "print(df_tfidf.sample())"
      ],
      "metadata": {
        "id": "dIGOH6sH_-79",
        "colab": {
          "base_uri": "https://localhost:8080/"
        },
        "outputId": "b22ceab9-48ea-49f0-fa60-91cac3463399"
      },
      "id": "dIGOH6sH_-79",
      "execution_count": 14,
      "outputs": [
        {
          "output_type": "stream",
          "name": "stdout",
          "text": [
            "      000   01   02   03   06   07   08   09   10  100  ...  éxito  índice  \\\n",
            "1882  0.0  0.0  0.0  0.0  0.0  0.0  0.0  0.0  0.0  0.0  ...    0.0     0.0   \n",
            "\n",
            "      íntimo  óptimo  órden  órgano  último  únicamente  único  útil  \n",
            "1882     0.0     0.0    0.0     0.0     0.0         0.0    0.0   0.0  \n",
            "\n",
            "[1 rows x 5000 columns]\n"
          ]
        }
      ]
    },
    {
      "cell_type": "markdown",
      "source": [
        "### Conclusiones"
      ],
      "metadata": {
        "id": "ivDn9DllUByk"
      },
      "id": "ivDn9DllUByk"
    },
    {
      "cell_type": "markdown",
      "source": [
        "Una vez teniendo procesado el texto, vamos a proceder a entrenar los algoritmos para llevar a cabo la tarea de clasificación. Los 3 algoritmos que vamos a usar para la clasificación son: Naive Bayes, KNN y Random Forest (?)."
      ],
      "metadata": {
        "id": "u7bJhgXMUJ-h"
      },
      "id": "u7bJhgXMUJ-h"
    },
    {
      "cell_type": "markdown",
      "source": [
        "## Sección 3. Modelado y evaluación."
      ],
      "metadata": {
        "id": "W97nfOSiP1QV"
      },
      "id": "W97nfOSiP1QV"
    },
    {
      "cell_type": "markdown",
      "source": [
        "Separamos los datos en 20% test y 80% train."
      ],
      "metadata": {
        "id": "Ii2lJpugWYKt"
      },
      "id": "Ii2lJpugWYKt"
    },
    {
      "cell_type": "code",
      "source": [
        "X_train, X_test, y_train, y_test = train_test_split(X, y, test_size=0.2, random_state=1)"
      ],
      "metadata": {
        "id": "yxC21OR_CCrX"
      },
      "id": "yxC21OR_CCrX",
      "execution_count": 15,
      "outputs": []
    },
    {
      "cell_type": "markdown",
      "source": [
        "### Naive Bayes (Andrés Romero)"
      ],
      "metadata": {
        "id": "WVDqbe4ZCvoU"
      },
      "id": "WVDqbe4ZCvoU"
    },
    {
      "cell_type": "code",
      "source": [
        "# Entrenar el modelo Naive Bayes\n",
        "nb_model = MultinomialNB()\n",
        "nb_model.fit(X_train, y_train)\n",
        "\n",
        "# Predecir en el conjunto de prueba\n",
        "y_pred_nb = nb_model.predict(X_test)\n",
        "\n",
        "# Evaluar el rendimiento del modelo\n",
        "print(\"Naive Bayes Classification Report:\")\n",
        "print(classification_report(y_test, y_pred_nb))"
      ],
      "metadata": {
        "id": "qiwYWlE8Cx-N",
        "colab": {
          "base_uri": "https://localhost:8080/"
        },
        "outputId": "576a5f6e-ebb3-499d-9a6f-b372a5f22fcc"
      },
      "id": "qiwYWlE8Cx-N",
      "execution_count": 16,
      "outputs": [
        {
          "output_type": "stream",
          "name": "stdout",
          "text": [
            "Naive Bayes Classification Report:\n",
            "              precision    recall  f1-score   support\n",
            "\n",
            "           3       1.00      0.92      0.95       254\n",
            "           4       0.97      0.97      0.97       265\n",
            "           5       0.93      0.99      0.96       291\n",
            "\n",
            "    accuracy                           0.96       810\n",
            "   macro avg       0.97      0.96      0.96       810\n",
            "weighted avg       0.96      0.96      0.96       810\n",
            "\n"
          ]
        }
      ]
    },
    {
      "cell_type": "markdown",
      "source": [
        "## Regresión Logística (Nicolás Murillo)\n",
        "\n"
      ],
      "metadata": {
        "id": "qMldA42mW2VZ"
      },
      "id": "qMldA42mW2VZ"
    },
    {
      "cell_type": "code",
      "source": [
        " # se importa el modelo desde sklearn\n",
        "from sklearn.linear_model import LogisticRegression\n",
        "\n",
        "# EL siguiente código es quien entrena el modelo\n",
        "lr_model = LogisticRegression(max_iter=1000)\n",
        "lr_model.fit(X_train, y_train)\n",
        "\n",
        "#evaluación de los datos\n",
        "y_pred_lr = lr_model.predict(X_test)\n",
        "\n",
        "# impresión de los reportes del modelo\n",
        "print(\"Logistic Regression Classification Report:\")\n",
        "print(classification_report(y_test, y_pred_lr))"
      ],
      "metadata": {
        "id": "SjwhYyHrXCF4",
        "colab": {
          "base_uri": "https://localhost:8080/"
        },
        "outputId": "9113d5cf-423e-4eb5-db63-1a87bb4c4cc4"
      },
      "id": "SjwhYyHrXCF4",
      "execution_count": 17,
      "outputs": [
        {
          "output_type": "stream",
          "name": "stdout",
          "text": [
            "Logistic Regression Classification Report:\n",
            "              precision    recall  f1-score   support\n",
            "\n",
            "           3       0.98      0.97      0.98       254\n",
            "           4       0.98      0.98      0.98       265\n",
            "           5       0.97      0.99      0.98       291\n",
            "\n",
            "    accuracy                           0.98       810\n",
            "   macro avg       0.98      0.98      0.98       810\n",
            "weighted avg       0.98      0.98      0.98       810\n",
            "\n"
          ]
        }
      ]
    },
    {
      "cell_type": "markdown",
      "source": [
        "### Random Forest (Juan Pablo)"
      ],
      "metadata": {
        "id": "YiuSeRWRXE2Q"
      },
      "id": "YiuSeRWRXE2Q"
    },
    {
      "cell_type": "code",
      "source": [
        "from sklearn.ensemble import RandomForestClassifier\n",
        "from sklearn.metrics import classification_report, accuracy_score\n",
        "from sklearn.model_selection import train_test_split\n",
        "\n",
        "# Dividir los datos en conjunto de entrenamiento y prueba\n",
        "X_train, X_test, y_train, y_test = train_test_split(X, y, test_size=0.2, random_state=1)\n",
        "\n",
        "# Entrenar el modelo Random Forest\n",
        "clf = RandomForestClassifier(n_estimators=100, random_state=42)\n",
        "clf.fit(X_train, y_train)\n",
        "\n",
        "# Predicciones\n",
        "y_pred_rf = clf.predict(X_test)\n",
        "\n",
        "# Evaluar el modelo\n",
        "print(\"Accuracy:\", accuracy_score(y_test, y_pred_rf))\n",
        "print(\"Classification Report:\\n\", classification_report(y_test, y_pred_rf))"
      ],
      "metadata": {
        "id": "I_Wibt23XJt3",
        "colab": {
          "base_uri": "https://localhost:8080/"
        },
        "outputId": "c72be407-a3cd-4f99-d7c0-2ec4b4ae3db2"
      },
      "id": "I_Wibt23XJt3",
      "execution_count": 18,
      "outputs": [
        {
          "output_type": "stream",
          "name": "stdout",
          "text": [
            "Accuracy: 0.971604938271605\n",
            "Classification Report:\n",
            "               precision    recall  f1-score   support\n",
            "\n",
            "           3       0.98      0.96      0.97       254\n",
            "           4       0.98      0.97      0.98       265\n",
            "           5       0.96      0.98      0.97       291\n",
            "\n",
            "    accuracy                           0.97       810\n",
            "   macro avg       0.97      0.97      0.97       810\n",
            "weighted avg       0.97      0.97      0.97       810\n",
            "\n"
          ]
        }
      ]
    },
    {
      "cell_type": "markdown",
      "source": [
        "## Sección 4. Resultados."
      ],
      "metadata": {
        "id": "EwV0hjDuQEue"
      },
      "id": "EwV0hjDuQEue"
    },
    {
      "cell_type": "markdown",
      "source": [
        "Finalmente el algoritmo que se escogió es el algoritmo de Regresion Logistica para la clasificación de las opiniones en los ODS dado que con este modelo se obtuvieron las mayores/mejores métricas para la clasificación. Los resultados muestran una exactitud del 97.16%, lo que significa que es este modelo es altamente preciso para clasificar las opiniones en las tres categorías.\n",
        "\n",
        "**Métricas:**\n"
      ],
      "metadata": {
        "id": "CcAzcDQntqEG"
      },
      "id": "CcAzcDQntqEG"
    },
    {
      "cell_type": "code",
      "source": [
        "classification_report(y_test, y_pred_lr)"
      ],
      "metadata": {
        "id": "d_tOvvuGukXI",
        "colab": {
          "base_uri": "https://localhost:8080/",
          "height": 70
        },
        "outputId": "49b85e9e-1373-475d-df70-79607e61370d"
      },
      "id": "d_tOvvuGukXI",
      "execution_count": 19,
      "outputs": [
        {
          "output_type": "execute_result",
          "data": {
            "text/plain": [
              "'              precision    recall  f1-score   support\\n\\n           3       0.98      0.97      0.98       254\\n           4       0.98      0.98      0.98       265\\n           5       0.97      0.99      0.98       291\\n\\n    accuracy                           0.98       810\\n   macro avg       0.98      0.98      0.98       810\\nweighted avg       0.98      0.98      0.98       810\\n'"
            ],
            "application/vnd.google.colaboratory.intrinsic+json": {
              "type": "string"
            }
          },
          "metadata": {},
          "execution_count": 19
        }
      ]
    },
    {
      "cell_type": "markdown",
      "source": [
        "**ODS 3 (Salud y Bienestar):**  \n",
        "- **Precisión:** El modelo predijo correctamente el 98% de las veces cuando clasificó una opinión como relacionada con el ODS 3.\n",
        "- **Recall:** El 96% de las opiniones realmente relacionadas con el ODS 3 fueron correctamente identificadas por el modelo.\n",
        "- **F1-Score:** Esta métrica combina la precisión y el recall, indicando un rendimiento global muy alto del modelo en la predicción de opiniones sobre el ODS 3.  \n",
        "\n",
        "**ODS 4 (Educación de Calidad):**  \n",
        "- **Precisión:** El modelo identificó correctamente el 98% de las veces cuando clasificó una opinión como relacionada con el ODS 4.\n",
        "- **Recall:** El 97% de las opiniones sobre el ODS 4 fueron correctamente detectadas.\n",
        "- **F1Score-:** El modelo tiene un excelente rendimiento en la identificación de opiniones relacionadas con el ODS 4, combinando tanto la precisión como el recall.\n",
        "  \n",
        "**ODS 5 (Igualdad de Género):**  \n",
        "- **Precisión:** El 96% de las veces, cuando el modelo predijo una opinión como relacionada con el ODS 5, fue correcta.\n",
        "- **Recall:** El 98% de las opiniones sobre el ODS 5 fueron correctamente identificadas.\n",
        "- **F1-Score:** El rendimiento del modelo en la clasificación de opiniones sobre el ODS 5 es igualmente alto, con un excelente equilibrio entre precisión y recall."
      ],
      "metadata": {
        "id": "1DAxNb05tr5J"
      },
      "id": "1DAxNb05tr5J"
    },
    {
      "cell_type": "code",
      "source": [
        "# Para cada ODS, obtener las palabras clave\n",
        "for i, ods in enumerate([3, 4, 5]):\n",
        "    print(f\"Palabras clave para ODS {ods}:\")\n",
        "\n",
        "    # Filtrar las opiniones que el modelo clasificó correctamente como ODS actual\n",
        "    indices = np.where(y_pred_lr == ods)[0]\n",
        "\n",
        "    # Promedio de los valores TF-IDF de estas opiniones\n",
        "    mean_tfidf = np.mean(X_test[indices].toarray(), axis=0)\n",
        "\n",
        "    # Obtener las palabras con los valores TF-IDF más altos\n",
        "    top_n = 10  # El número de palabras clave\n",
        "    top_words_idx = mean_tfidf.argsort()[-top_n:][::-1]\n",
        "    top_words = [vocab[idx] for idx in top_words_idx]\n",
        "    print(top_words)"
      ],
      "metadata": {
        "id": "W3_p1Wb3jzwn",
        "colab": {
          "base_uri": "https://localhost:8080/"
        },
        "outputId": "634d7fb3-5c3e-4a6d-bb23-0fcea64fea27"
      },
      "id": "W3_p1Wb3jzwn",
      "execution_count": 20,
      "outputs": [
        {
          "output_type": "stream",
          "name": "stdout",
          "text": [
            "Palabras clave para ODS 3:\n",
            "['salud', 'atención', 'médico', 'paciente', 'servicio', 'país', 'enfermedad', 'mental', 'sistema', 'sanitario']\n",
            "Palabras clave para ODS 4:\n",
            "['escuela', 'educación', 'estudiante', 'docente', 'educativo', 'escolar', 'alumno', 'aprendizaje', 'evaluación', 'ocde']\n",
            "Palabras clave para ODS 5:\n",
            "['mujer', 'género', 'hombre', 'poder', 'igualdad', 'trabajo', 'violencia', 'social', 'laboral', 'derecho']\n"
          ]
        }
      ]
    },
    {
      "cell_type": "markdown",
      "source": [
        "### ODS 3"
      ],
      "metadata": {
        "id": "VO1gORhSmCHz"
      },
      "id": "VO1gORhSmCHz"
    },
    {
      "cell_type": "markdown",
      "source": [
        "**Palabras clave:** salud, atención, médico, servicio, paciente, enfermedad, mental, sistema, sanitario.  \n",
        "Las interpretaciones principales que podemos sacar de estas palabras clave son que las preocupaciones principales de los ciudadanos están relacionadas con la atención médica, el acceso a servicios médicos, y la salud mental.\n",
        "Las palabras salud, ateción, servicio y médico nos pueden indicar que la atención médica es un tema de bastante importancia, por lo que corresponde a una de las principales preocupaciones. Seguidamente, palabras como enfermedad y mental nos indican la importancia que tienen las menciones de enfermedades mentales, lo que las convierte en otra de las principales preocupaciones. Por último, palabras como sistema y sanitario nos indican que el sistema de salud o sistema sanitario también es de alta importancia y, por ende, una de las principales preocupaciones de los ciudadanos.\n"
      ],
      "metadata": {
        "id": "WmBE3XlnmGNI"
      },
      "id": "WmBE3XlnmGNI"
    },
    {
      "cell_type": "markdown",
      "source": [
        "**Posibles estrategias**  \n",
        "Nuestro equipo, basándose en los resultados obtenidos, siguiere las siguientes estrategias que pueden ayudar con el problema y que puede ser importante que el negocio evalúe:\n",
        "- Mejorar la infraestructura sanitaria\n",
        "- Hacer campañas para facilitar el acceso al servicio de salud para todo el mundo y de manera gratuita de ser posible\n",
        "- Hacer campañas relacionadas con la salud mental y la importancia de esta\n",
        "- Facilitar el acceso a psicólogos y psiquiatras para todas las personas que lo necesiten, a un bajo costo o incluso gratis de ser necesario."
      ],
      "metadata": {
        "id": "bFAkcL_Ln7OI"
      },
      "id": "bFAkcL_Ln7OI"
    },
    {
      "cell_type": "markdown",
      "source": [
        "### ODS 4"
      ],
      "metadata": {
        "id": "-WmbVpidpUNf"
      },
      "id": "-WmbVpidpUNf"
    },
    {
      "cell_type": "markdown",
      "source": [
        "**Palabras clave:** escuela, educación, estudiante, docente, educativo, escolar, alumno, aprendizaje, evaluación, ocde.\n",
        "\n",
        "Las interpretaciones principales que podemos sacar de estas palabras clave son que las preocupaciones de los ciudadanos están centradas en la calidad de la educación, la infraestructura escolar, y el desempeño de los estudiantes y docentes.\n",
        "\n",
        "Las palabras \"educación\", \"escuela\", y \"educativo\" nos indican que el sistema educativo y la infraestructura escolar son temas de gran importancia para los ciudadanos, probablemente relacionados con la calidad de la educación que reciben los estudiantes.\n",
        "\n",
        "Las palabras \"estudiante\", \"docente\", y \"alumno\" reflejan un enfoque en el desempeño de los estudiantes y en el papel crucial de los docentes en la educación. Los ciudadanos muestran preocupación por la formación de los maestros y cómo esto afecta a los estudiantes.\n",
        "\n",
        "Palabras como \"aprendizaje\" y \"evaluación\" sugieren que la preocupación no está solo en los resultados, sino también en los métodos de aprendizaje y cómo se evalúa a los estudiantes. Esto indica un interés en mejorar la calidad del aprendizaje, no solo en los resultados de las pruebas.\n",
        "\n",
        "La mención de \"OCDE\" sugiere que existe una preocupación por cómo la educación local se compara con los estándares internacionales, y la gente parece estar interesada en elevar la calidad educativa para cumplir con esos estándares."
      ],
      "metadata": {
        "id": "59y461U8pyPw"
      },
      "id": "59y461U8pyPw"
    },
    {
      "cell_type": "markdown",
      "source": [
        "**Posibles estrategias**  \n",
        "Nuestro equipo, basándose en los resultados obtenidos, sugiere las siguientes estrategias que pueden ayudar con los problemas identificados y que pueden ser importantes para que el negocio evalúe:\n",
        "\n",
        "- Invertir en la mejora de la infraestructura escolar, asegurando que las instalaciones sean seguras, modernas y adecuadas para un entorno de aprendizaje óptimo. Es importante dar prioridad a las zonas rurales y desfavorecidas.\n",
        "\n",
        "- Implementar programas de capacitación continua para los docentes, centrados en mejorar las metodologías de enseñanza y en fomentar un enfoque de aprendizaje más efectivo para los estudiantes.\n",
        "\n",
        "- Rediseñar los sistemas de evaluación para que no solo midan el rendimiento académico, sino también el proceso de aprendizaje. Introducir evaluaciones más formativas y personalizadas para los estudiantes.\n",
        "\n",
        "- Colaborar con organismos internacionales como la OCDE para adoptar mejores prácticas y estándares internacionales que aseguren una educación de calidad. Esto también puede incluir intercambios educativos y evaluaciones comparativas con otros países.\n",
        "\n",
        "- Implementar programas que promuevan el aprendizaje personalizado, utilizando tecnología y enfoques innovadores que permitan a los estudiantes progresar a su propio ritmo y obtener una educación adaptada a sus necesidades."
      ],
      "metadata": {
        "id": "JRfUY2oop__W"
      },
      "id": "JRfUY2oop__W"
    },
    {
      "cell_type": "markdown",
      "source": [
        "### ODS 5"
      ],
      "metadata": {
        "id": "jlC_oLQ1pV8W"
      },
      "id": "jlC_oLQ1pV8W"
    },
    {
      "cell_type": "markdown",
      "source": [
        "**Palabras clave:** mujer, género, hombre, poder, igualdad, trabajo, violencia, laboral, social, país.\n",
        "\n",
        "Las interpretaciones principales que podemos sacar de estas palabras clave son que las preocupaciones de los ciudadanos están centradas en la igualdad de género, los problemas de violencia de género, y las desigualdades laborales entre hombres y mujeres.\n",
        "\n",
        "Las palabras \"mujer\", \"género\" y \"hombre\" destacan que el tema de la discriminación de género es una preocupación central. La ciudadanía está preocupada por cómo los roles de poder entre hombres y mujeres afectan la igualdad de oportunidades.\n",
        "\n",
        "Las palabras \"igualdad\" y \"poder\" sugieren que los ciudadanos están enfocados en la equidad de género, con especial atención en los desequilibrios de poder entre hombres y mujeres, tanto en el ámbito social como laboral.\n",
        "\n",
        "Palabras como \"trabajo\", \"laboral\" y \"violencia\" indican que las desigualdades laborales y la violencia de género son temas clave. Estas preocupaciones reflejan un enfoque en la protección de los derechos de las mujeres y la necesidad de mejorar las condiciones laborales para ellas.\n",
        "\n",
        "La palabra \"social\" sugiere que las preocupaciones no se limitan solo al entorno laboral, sino que también incluyen un contexto social más amplio, en el que las mujeres experimentan desigualdades en varias esferas de la vida."
      ],
      "metadata": {
        "id": "rxxgYnojqwrL"
      },
      "id": "rxxgYnojqwrL"
    },
    {
      "cell_type": "markdown",
      "source": [
        "**Posibles Estrategias**  \n",
        "Nuestro equipo, basándose en los resultados obtenidos, sugiere las siguientes estrategias que pueden ayudar con los problemas identificados y que pueden ser importantes para que el negocio evalúe:\n",
        "\n",
        "- Desarrollar e implementar campañas masivas de concientización sobre la violencia de género, enfocadas en educar a la sociedad sobre la prevención de la violencia y la importancia de crear entornos seguros para las mujeres.\n",
        "\n",
        "- Impulsar políticas que promuevan la igualdad salarial y la eliminación de barreras laborales para las mujeres. Es fundamental implementar iniciativas que busquen cerrar la brecha de género en el acceso al trabajo y la promoción dentro de las empresas.\n",
        "\n",
        "- Facilitar el acceso de las mujeres a programas de formación y emprendimiento que les permitan mejorar sus habilidades laborales y lograr un mayor empoderamiento económico. Esto puede incluir programas de capacitación digital o apoyo financiero para emprendedoras.\n",
        "\n",
        "- Fomentar la participación de las mujeres en puestos de toma de decisiones en todos los niveles, tanto en el sector público como privado. Esto puede hacerse a través de iniciativas que promuevan la igualdad en el acceso a posiciones de liderazgo y poder.\n",
        "\n",
        "- Iniciar campañas para desafiar los estereotipos de género arraigados en la sociedad y promover un entorno más equitativo en todas las esferas de la vida, incluyendo el hogar, la educación y los medios de comunicación."
      ],
      "metadata": {
        "id": "0Nos6UJiq1oK"
      },
      "id": "0Nos6UJiq1oK"
    },
    {
      "cell_type": "markdown",
      "source": [
        "### Por qué es útil esta información?"
      ],
      "metadata": {
        "id": "qEnP5pj3pYK9"
      },
      "id": "qEnP5pj3pYK9"
    },
    {
      "cell_type": "markdown",
      "source": [
        "Este análisis es valioso para la organización porque las palabras clave extraídas reflejan las preocupaciones más comunes de los ciudadanos respecto a los ODS 3, 4 y 5. Esto permite a la organización enfocar sus esfuerzos en áreas prioritarias que realmente impactan a la población. Además, con estas palabras clave, la organización puede diseñar políticas públicas más efectivas y adaptadas a las necesidades expresadas. Por ejemplo, enfocarse en mejorar la atención médica, reforzar la educación de calidad y combatir la violencia de género. Por último, la información es útil para diseñar campañas de sensibilización dirigidas a los problemas específicos identificados, como la salud mental, la igualdad de género y la mejora educativa.\n",
        "\n",
        "**Evaluación de impacto:** Estos resultados pueden ser una referencia para medir el impacto de las intervenciones futuras y ajustar las estrategias según las necesidades expresadas por la población."
      ],
      "metadata": {
        "id": "IJSsvEFjrR_x"
      },
      "id": "IJSsvEFjrR_x"
    },
    {
      "cell_type": "markdown",
      "source": [
        "### Datos de prueba"
      ],
      "metadata": {
        "id": "soyeLoVCzp5B"
      },
      "id": "soyeLoVCzp5B"
    },
    {
      "cell_type": "code",
      "source": [
        "df_sin_etiquetar = pd.read_excel('/content/TestODScat_345.xlsx')\n",
        "df_sin_etiquetar.shape"
      ],
      "metadata": {
        "id": "3S_MMj79zrxj",
        "colab": {
          "base_uri": "https://localhost:8080/"
        },
        "outputId": "0a58262d-1df6-4310-e41b-92aadf904d2c"
      },
      "id": "3S_MMj79zrxj",
      "execution_count": 21,
      "outputs": [
        {
          "output_type": "execute_result",
          "data": {
            "text/plain": [
              "(702, 2)"
            ]
          },
          "metadata": {},
          "execution_count": 21
        }
      ]
    },
    {
      "cell_type": "code",
      "source": [
        "df_sin_etiquetar.isnull().sum()"
      ],
      "metadata": {
        "id": "TaDMtPM-0Cg8",
        "colab": {
          "base_uri": "https://localhost:8080/",
          "height": 147
        },
        "outputId": "840f58ce-c8ef-41f4-946c-a9006fe1e489"
      },
      "id": "TaDMtPM-0Cg8",
      "execution_count": 22,
      "outputs": [
        {
          "output_type": "execute_result",
          "data": {
            "text/plain": [
              "Textos_espanol      0\n",
              "sdg               702\n",
              "dtype: int64"
            ],
            "text/html": [
              "<div>\n",
              "<style scoped>\n",
              "    .dataframe tbody tr th:only-of-type {\n",
              "        vertical-align: middle;\n",
              "    }\n",
              "\n",
              "    .dataframe tbody tr th {\n",
              "        vertical-align: top;\n",
              "    }\n",
              "\n",
              "    .dataframe thead th {\n",
              "        text-align: right;\n",
              "    }\n",
              "</style>\n",
              "<table border=\"1\" class=\"dataframe\">\n",
              "  <thead>\n",
              "    <tr style=\"text-align: right;\">\n",
              "      <th></th>\n",
              "      <th>0</th>\n",
              "    </tr>\n",
              "  </thead>\n",
              "  <tbody>\n",
              "    <tr>\n",
              "      <th>Textos_espanol</th>\n",
              "      <td>0</td>\n",
              "    </tr>\n",
              "    <tr>\n",
              "      <th>sdg</th>\n",
              "      <td>702</td>\n",
              "    </tr>\n",
              "  </tbody>\n",
              "</table>\n",
              "</div><br><label><b>dtype:</b> int64</label>"
            ]
          },
          "metadata": {},
          "execution_count": 22
        }
      ]
    },
    {
      "cell_type": "code",
      "source": [
        "corpus = df_sin_etiquetar['Textos_espanol'].tolist()"
      ],
      "metadata": {
        "id": "yH3wQeV61DSX"
      },
      "id": "yH3wQeV61DSX",
      "execution_count": 23,
      "outputs": []
    },
    {
      "cell_type": "code",
      "source": [
        "norm_corpus = normalize_corpus(corpus)"
      ],
      "metadata": {
        "id": "_GzgdXU71VHN",
        "collapsed": true
      },
      "id": "_GzgdXU71VHN",
      "execution_count": 24,
      "outputs": []
    },
    {
      "cell_type": "code",
      "source": [
        "# Vectorización con TF-IDF\n",
        "vectorizer = TfidfVectorizer(max_features=5000, stop_words=stop_words)\n",
        "X = vectorizer.fit_transform(norm_corpus)  # X es la matriz TF-IDF resultante\n",
        "X"
      ],
      "metadata": {
        "id": "z3Ri8HPw1hPH",
        "colab": {
          "base_uri": "https://localhost:8080/"
        },
        "outputId": "64159ed6-1c3b-4b4f-d969-9e7c50f8929e"
      },
      "id": "z3Ri8HPw1hPH",
      "execution_count": 25,
      "outputs": [
        {
          "output_type": "execute_result",
          "data": {
            "text/plain": [
              "<702x5000 sparse matrix of type '<class 'numpy.float64'>'\n",
              "\twith 32730 stored elements in Compressed Sparse Row format>"
            ]
          },
          "metadata": {},
          "execution_count": 25
        }
      ]
    },
    {
      "cell_type": "code",
      "source": [
        "# Obtener los nombres de las características (palabras) en el vocabulario\n",
        "vocab = vectorizer.get_feature_names_out()\n",
        "\n",
        "# Convertir la matriz dispersa TF-IDF a una matriz densa (completa)\n",
        "X_dense = X.toarray()\n",
        "\n",
        "# Crear un DataFrame de pandas con la matriz TF-IDF\n",
        "df_tfidf = pd.DataFrame(X_dense, columns=vocab)\n",
        "\n",
        "# Mostrar las primeras filas del DataFrame\n",
        "print(df_tfidf.sample())"
      ],
      "metadata": {
        "id": "mJKWCHYh1oBD",
        "colab": {
          "base_uri": "https://localhost:8080/"
        },
        "outputId": "c7d539e1-e55e-4342-a72b-d4310ebf19b3"
      },
      "id": "mJKWCHYh1oBD",
      "execution_count": 26,
      "outputs": [
        {
          "output_type": "stream",
          "name": "stdout",
          "text": [
            "     000   02   03  048   05   07   08   09   10  100  ...  índice  índices  \\\n",
            "597  0.0  0.0  0.0  0.0  0.0  0.0  0.0  0.0  0.0  0.0  ...     0.0      0.0   \n",
            "\n",
            "     íntimo  óptimo  órgano  último  únicamente  único  útil  œcooking  \n",
            "597     0.0     0.0     0.0     0.0         0.0    0.0   0.0       0.0  \n",
            "\n",
            "[1 rows x 5000 columns]\n"
          ]
        }
      ]
    },
    {
      "cell_type": "code",
      "source": [
        "# Hacer predicciones en los datos sin etiquetar\n",
        "y_pred_nuevas_etiquetas = lr_model.predict(X)"
      ],
      "metadata": {
        "id": "XBxpJU2p18DF"
      },
      "id": "XBxpJU2p18DF",
      "execution_count": 27,
      "outputs": []
    },
    {
      "cell_type": "code",
      "source": [
        "# Agregar la columna con las etiquetas predichas\n",
        "df_sin_etiquetar['sdg'] = y_pred_nuevas_etiquetas\n",
        "# Guardar el DataFrame en un archivo Excel\n",
        "df_sin_etiquetar.to_excel('TestODScat_345.xlsx', index=False)"
      ],
      "metadata": {
        "id": "Qdi-36U419VJ"
      },
      "id": "Qdi-36U419VJ",
      "execution_count": 28,
      "outputs": []
    },
    {
      "cell_type": "markdown",
      "source": [
        "## Sección 5. Mapa de actores relacionado con el producto de datos creado.\n",
        "\n",
        "##Actor 1\n",
        "\n",
        "Rol: Administrativo financiero de la UNFPA\n",
        "\n",
        "Tipo: Financiador\n",
        "\n",
        "Beneficio: El modelo le ayuda a ver cuales son los ods que necesitan mayor atención para asignar recursos eficientemente\n",
        "\n",
        "Riesgo: Si el modelo es poco preciso puede asignar recursos incorrectamente\n",
        "\n",
        "\n",
        "\n",
        "##Actor 2\n",
        "\n",
        "Rol: Persona de la comunidad\n",
        "\n",
        "Tipo: Beneficiado\n",
        "\n",
        "Beneficio: El modelo identifica que a que ODS pertenece su problema en específico para que la UNFPA pueda atender precisamente sus necesidades y las de la comunidad.\n",
        "\n",
        "Riesgo: Si el sistema no es preciso puede recibir recursos y beneficios que su comunidad no necesita\n",
        "\n",
        "##Actor 3:\n",
        "\n",
        "Rol: Administrador de datos o estadístico  \n",
        "\n",
        "Tipo: Cliente\n",
        "\n",
        "Beneficio: Recibe un software que automatiza su trabajo de clasificación\n",
        "\n",
        "Riesgo: Puede generar reportes incorrectos o imprecisos a la UNFPA generados erróneamente por el modelo"
      ],
      "metadata": {
        "id": "yAGkYiHXQY6B"
      },
      "id": "yAGkYiHXQY6B"
    },
    {
      "cell_type": "markdown",
      "source": [
        "## Sección 6. Trabajo en equipo\n",
        "\n",
        "**Nicolás Murillo:**\n",
        "\n",
        "Rol: Líder de negocio\n",
        "\n",
        "Tareas realizadas: Sección 1 (entendimiento) , sección 5(mapa de actores) y algoritmo de regresión logística\n",
        "\n",
        "Horas dedicadas: 5\n",
        "\n",
        "Algoritmo asignado:Regresión logística\n",
        "\n",
        "Retos en el proyecto: Falta de eficiencia en el manejo del tiempo y hacer las cosas con anticipación, errores en el código.\n",
        "\n",
        "Puntos correspondientes: 33.3333/100\n",
        "\n",
        "Puntos a mejorar: Realizar las cosas con más anticipación y sacar más provecho de las clases para aplicar los temas del curso al proyecto\n",
        "\n",
        "**Andrés Romero:**\n",
        "\n",
        "Rol: Líder de proyecto, datos y analítica\n",
        "\n",
        "Tareas realizadas:   \n",
        "- Analítica y procesamiento de datos\n",
        "- Procesamiento de texto\n",
        "- Modelo de Naive Bayes\n",
        "\n",
        "Horas dedicadas: 6\n",
        "\n",
        "Algoritmo asignado: Naive Bayes\n",
        "\n",
        "Retos en el proyecto: Procesar el texto para poder pasarlo al modelo\n",
        "\n",
        "Puntos correspondientes: 33.333.../100\n",
        "\n",
        "Puntos a mejorar: Comunicación\n",
        "\n",
        "\n",
        "**Juan Pablo Peña:**\n",
        "\n",
        "Rol: Líder de análitica, Líder de proyecto\n",
        "\n",
        "Tareas realizadas: Entendimiento de datos, análisis de los datos a trabajar y algoritmo Random Forest.\n",
        "\n",
        "Horas dedicadas: 5\n",
        "\n",
        "Algoritmo asignado:\n",
        "\n",
        "Retos en el proyecto:\n",
        "\n",
        "Puntos correspondientes: 33.333.../100\n",
        "\n",
        "Puntos a mejorar: Distribución del tiempo\n"
      ],
      "metadata": {
        "id": "hHx2MKVkQbOn"
      },
      "id": "hHx2MKVkQbOn"
    },
    {
      "cell_type": "markdown",
      "source": [
        "# Etapa 2"
      ],
      "metadata": {
        "id": "rIUnsAaAJLLL"
      },
      "id": "rIUnsAaAJLLL"
    },
    {
      "cell_type": "markdown",
      "source": [
        "## Crear pipeline"
      ],
      "metadata": {
        "id": "XrQeVVHuM0Zd"
      },
      "id": "XrQeVVHuM0Zd"
    },
    {
      "cell_type": "markdown",
      "source": [
        "Primero vamos a contruir un tranformador personalizado que se encargue de hacer la lemmatizacion del texto, ya que no hay un transformador predeterminado que haga especificamente esto."
      ],
      "metadata": {
        "id": "A2wQNROLM5D0"
      },
      "id": "A2wQNROLM5D0"
    },
    {
      "cell_type": "code",
      "source": [
        "class TextNormalizer(BaseEstimator, TransformerMixin):\n",
        "    def __init__(self, stop_words):\n",
        "        self.stop_words = stop_words\n",
        "        self.nlp = None\n",
        "        # Asegúrate de que 'stop_words' no contenga objetos PosixPath\n",
        "\n",
        "    def __getstate__(self):\n",
        "        state = self.__dict__.copy()\n",
        "        # Convertir PosixPath a str en 'stop_words' si es necesario\n",
        "        if 'stop_words' in state:\n",
        "            state['stop_words'] = [str(word) for word in state['stop_words']]\n",
        "        # Eliminar 'nlp' para evitar problemas de serialización\n",
        "        if 'nlp' in state:\n",
        "            del state['nlp']\n",
        "        return state\n",
        "\n",
        "    def __setstate__(self, state):\n",
        "        self.__dict__.update(state)\n",
        "        self.nlp = None  # Volver a inicializar 'nlp' cuando sea necesario\n",
        "\n",
        "    def normalize_document(self, doc):\n",
        "        if self.nlp is None:\n",
        "            self.nlp = spacy.load('es_core_news_sm')\n",
        "        # Convertir a minúsculas y eliminar espacios\n",
        "        doc = doc.lower().strip()\n",
        "        # Procesar el documento con spaCy\n",
        "        spacy_doc = self.nlp(doc)\n",
        "        # Lematización y eliminación de stopwords\n",
        "        lemmatized_tokens = [token.lemma_ for token in spacy_doc if token.text not in self.stop_words]\n",
        "        # Reconstruir el texto lematizado\n",
        "        return ' '.join(lemmatized_tokens)\n",
        "\n",
        "    def fit(self, X, y=None):\n",
        "        return self\n",
        "\n",
        "    def transform(self, X, y=None):\n",
        "        return [self.normalize_document(doc) for doc in X]"
      ],
      "metadata": {
        "id": "XDZsBIosKhyA"
      },
      "id": "XDZsBIosKhyA",
      "execution_count": 29,
      "outputs": []
    },
    {
      "cell_type": "markdown",
      "source": [
        "Separamos las variables para entrenar el pipeline"
      ],
      "metadata": {
        "id": "0m4Ryd9LNJA-"
      },
      "id": "0m4Ryd9LNJA-"
    },
    {
      "cell_type": "code",
      "source": [
        "# Separar las características y la variable objetivo\n",
        "X_text = df_unfpa['Textos_espanol']\n",
        "y = df_unfpa['sdg']\n",
        "\n",
        "# Dividir los datos en conjuntos de entrenamiento y prueba\n",
        "X_train, X_test, y_train, y_test = train_test_split(X_text, y, test_size=0.2, random_state=1)"
      ],
      "metadata": {
        "id": "wkpKN0SYM6vO"
      },
      "id": "wkpKN0SYM6vO",
      "execution_count": 30,
      "outputs": []
    },
    {
      "cell_type": "markdown",
      "source": [
        "Definimos el pipeline con sus transformadores y lo entrenamos con los datos previamente separados."
      ],
      "metadata": {
        "id": "MSO0tAxINNkS"
      },
      "id": "MSO0tAxINNkS"
    },
    {
      "cell_type": "code",
      "source": [
        "# Construir el pipeline\n",
        "pipeline = Pipeline([\n",
        "    ('normalizer', TextNormalizer(stop_words)),\n",
        "    ('vectorizer', TfidfVectorizer(max_features=5000)),\n",
        "    ('classifier', LogisticRegression(max_iter=1000))\n",
        "])\n",
        "\n",
        "# Entrenar el modelo\n",
        "pipeline.fit(X_train, y_train)\n",
        "\n",
        "# Realizar predicciones en el conjunto de prueba\n",
        "y_pred = pipeline.predict(X_test)\n",
        "y_pred"
      ],
      "metadata": {
        "colab": {
          "base_uri": "https://localhost:8080/"
        },
        "id": "upsiq6GuJPAW",
        "outputId": "daee07d4-4c74-42cb-9585-2860c252b366"
      },
      "id": "upsiq6GuJPAW",
      "execution_count": 31,
      "outputs": [
        {
          "output_type": "execute_result",
          "data": {
            "text/plain": [
              "array([5, 5, 4, 5, 5, 3, 5, 3, 4, 5, 5, 3, 4, 4, 4, 4, 4, 3, 4, 4, 3, 4,\n",
              "       3, 5, 3, 3, 5, 4, 4, 3, 5, 4, 5, 4, 3, 3, 3, 5, 3, 3, 3, 5, 3, 4,\n",
              "       5, 4, 5, 4, 5, 4, 5, 3, 4, 5, 3, 5, 4, 4, 4, 5, 5, 5, 3, 5, 5, 5,\n",
              "       3, 4, 3, 3, 5, 5, 4, 5, 3, 3, 5, 4, 3, 5, 5, 5, 3, 4, 4, 4, 3, 5,\n",
              "       5, 4, 5, 5, 3, 3, 5, 4, 4, 3, 4, 4, 4, 5, 5, 5, 3, 4, 3, 4, 5, 5,\n",
              "       5, 5, 3, 5, 4, 3, 4, 4, 4, 4, 3, 3, 3, 5, 4, 3, 5, 3, 3, 3, 4, 4,\n",
              "       5, 3, 4, 5, 4, 4, 5, 3, 3, 5, 5, 4, 4, 4, 4, 5, 3, 5, 5, 4, 4, 4,\n",
              "       5, 3, 4, 4, 3, 4, 5, 5, 4, 3, 4, 3, 5, 3, 3, 3, 5, 4, 4, 5, 5, 3,\n",
              "       5, 3, 4, 3, 3, 3, 4, 4, 5, 3, 4, 4, 5, 5, 4, 4, 3, 5, 3, 4, 5, 5,\n",
              "       3, 3, 3, 3, 3, 5, 4, 3, 5, 3, 4, 5, 5, 3, 3, 5, 3, 4, 5, 5, 5, 3,\n",
              "       5, 5, 4, 5, 3, 3, 5, 3, 4, 3, 5, 3, 5, 5, 4, 5, 5, 5, 5, 3, 4, 4,\n",
              "       5, 5, 3, 4, 3, 5, 5, 3, 4, 3, 3, 5, 5, 5, 3, 5, 5, 4, 3, 3, 3, 5,\n",
              "       3, 4, 4, 3, 3, 5, 3, 5, 3, 4, 4, 3, 3, 5, 4, 4, 3, 4, 5, 4, 5, 4,\n",
              "       4, 3, 3, 4, 5, 3, 4, 3, 5, 4, 4, 3, 4, 5, 3, 4, 4, 5, 4, 5, 5, 5,\n",
              "       3, 4, 5, 5, 3, 5, 5, 5, 3, 4, 4, 5, 3, 5, 5, 5, 5, 4, 5, 5, 3, 4,\n",
              "       3, 3, 5, 3, 3, 3, 5, 5, 5, 4, 5, 4, 3, 3, 4, 4, 3, 5, 5, 3, 4, 4,\n",
              "       3, 4, 4, 3, 4, 4, 4, 5, 3, 3, 3, 5, 3, 5, 3, 3, 4, 5, 4, 3, 5, 3,\n",
              "       5, 4, 5, 3, 3, 3, 3, 5, 3, 3, 4, 5, 4, 3, 4, 3, 4, 4, 5, 5, 5, 5,\n",
              "       4, 4, 5, 3, 3, 5, 4, 3, 4, 3, 3, 4, 5, 5, 5, 5, 4, 3, 3, 4, 4, 5,\n",
              "       5, 5, 4, 4, 5, 5, 3, 3, 5, 3, 4, 4, 5, 4, 3, 5, 4, 4, 4, 5, 5, 5,\n",
              "       5, 5, 3, 3, 5, 4, 5, 4, 4, 3, 5, 5, 4, 3, 5, 5, 3, 3, 3, 3, 3, 5,\n",
              "       3, 3, 3, 4, 5, 3, 5, 3, 5, 5, 4, 5, 4, 5, 5, 5, 5, 5, 3, 5, 5, 4,\n",
              "       4, 3, 5, 5, 4, 4, 5, 3, 3, 3, 5, 5, 4, 4, 5, 3, 4, 5, 4, 4, 5, 5,\n",
              "       4, 5, 4, 5, 3, 5, 4, 4, 3, 4, 3, 3, 5, 4, 5, 5, 5, 5, 4, 4, 3, 5,\n",
              "       4, 4, 4, 4, 5, 4, 3, 4, 5, 4, 5, 3, 3, 3, 4, 5, 4, 5, 3, 4, 4, 5,\n",
              "       4, 4, 3, 3, 3, 4, 3, 3, 3, 4, 4, 4, 5, 4, 4, 5, 4, 4, 3, 4, 3, 5,\n",
              "       5, 3, 3, 5, 4, 5, 3, 3, 5, 4, 3, 5, 3, 5, 4, 4, 3, 4, 5, 3, 5, 4,\n",
              "       4, 3, 4, 5, 5, 4, 3, 3, 4, 3, 4, 4, 5, 5, 5, 5, 5, 5, 3, 5, 5, 4,\n",
              "       5, 3, 5, 4, 4, 4, 5, 4, 4, 3, 4, 3, 5, 3, 4, 5, 3, 3, 3, 4, 4, 3,\n",
              "       4, 5, 4, 4, 3, 3, 4, 5, 5, 3, 3, 5, 5, 5, 5, 4, 5, 4, 3, 5, 4, 3,\n",
              "       3, 5, 4, 4, 5, 4, 4, 5, 4, 3, 5, 3, 4, 4, 4, 5, 4, 5, 4, 3, 4, 5,\n",
              "       5, 4, 4, 5, 4, 4, 5, 3, 5, 5, 4, 3, 3, 4, 4, 3, 3, 4, 5, 5, 4, 5,\n",
              "       4, 3, 4, 5, 3, 4, 3, 3, 3, 4, 3, 5, 3, 5, 5, 5, 3, 3, 5, 4, 3, 5,\n",
              "       3, 4, 4, 5, 3, 5, 3, 4, 5, 3, 5, 4, 5, 5, 5, 5, 3, 5, 3, 4, 5, 4,\n",
              "       5, 4, 4, 3, 5, 5, 4, 5, 4, 3, 3, 5, 3, 5, 4, 4, 4, 5, 4, 4, 4, 4,\n",
              "       3, 3, 5, 5, 5, 5, 5, 4, 5, 3, 4, 5, 5, 3, 4, 4, 3, 5, 5, 4, 5, 3,\n",
              "       5, 4, 5, 3, 3, 3, 4, 3, 3, 4, 5, 5, 5, 5, 3, 5, 4, 3])"
            ]
          },
          "metadata": {},
          "execution_count": 31
        }
      ]
    },
    {
      "cell_type": "markdown",
      "source": [
        "## Exportar el pipeline"
      ],
      "metadata": {
        "id": "QyQUeziBNTdv"
      },
      "id": "QyQUeziBNTdv"
    },
    {
      "cell_type": "markdown",
      "source": [
        "Una vez creado y entrenado el pipeline, simplemente vamos a exportarlo para poder usarlo en nuestra API."
      ],
      "metadata": {
        "id": "pehpUM0JNWMx"
      },
      "id": "pehpUM0JNWMx"
    },
    {
      "cell_type": "code",
      "source": [
        "# Exportar pipeline\n",
        "joblib.dump(pipeline, 'modelo.joblib')"
      ],
      "metadata": {
        "colab": {
          "base_uri": "https://localhost:8080/"
        },
        "id": "hjZWb_AvJQFZ",
        "outputId": "3314427f-6fc7-471b-c334-11b7d9d0e567"
      },
      "id": "hjZWb_AvJQFZ",
      "execution_count": 32,
      "outputs": [
        {
          "output_type": "execute_result",
          "data": {
            "text/plain": [
              "['modelo.joblib']"
            ]
          },
          "metadata": {},
          "execution_count": 32
        }
      ]
    }
  ],
  "metadata": {
    "kernelspec": {
      "display_name": "Python 3 (ipykernel)",
      "language": "python",
      "name": "python3"
    },
    "language_info": {
      "codemirror_mode": {
        "name": "ipython",
        "version": 3
      },
      "file_extension": ".py",
      "mimetype": "text/x-python",
      "name": "python",
      "nbconvert_exporter": "python",
      "pygments_lexer": "ipython3",
      "version": "3.12.3"
    },
    "colab": {
      "provenance": []
    }
  },
  "nbformat": 4,
  "nbformat_minor": 5
}